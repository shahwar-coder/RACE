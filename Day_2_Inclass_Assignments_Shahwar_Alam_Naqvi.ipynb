{
  "nbformat": 4,
  "nbformat_minor": 0,
  "metadata": {
    "colab": {
      "provenance": []
    },
    "kernelspec": {
      "name": "python3",
      "display_name": "Python 3"
    },
    "language_info": {
      "name": "python"
    }
  },
  "cells": [
    {
      "cell_type": "markdown",
      "source": [
        "## Getting the Data Type"
      ],
      "metadata": {
        "id": "aehh2SWkAJq1"
      }
    },
    {
      "cell_type": "code",
      "execution_count": 5,
      "metadata": {
        "colab": {
          "base_uri": "https://localhost:8080/"
        },
        "id": "jrqZCodG_6-O",
        "outputId": "271e63e2-abb4-4b88-c885-ad98c64a9879"
      },
      "outputs": [
        {
          "output_type": "stream",
          "name": "stdout",
          "text": [
            "<class 'str'>\n",
            "<class 'int'>\n",
            "<class 'float'>\n",
            "<class 'complex'>\n",
            "<class 'list'>\n",
            "<class 'tuple'>\n",
            "<class 'range'>\n",
            "<class 'dict'>\n",
            "<class 'set'>\n",
            "<class 'frozenset'>\n",
            "<class 'bool'>\n",
            "<class 'NoneType'>\n"
          ]
        }
      ],
      "source": [
        "# Python Data Types Example\n",
        "\n",
        "# Text Type\n",
        "x1 = \"Hello World\"                         # str\n",
        "\n",
        "# Number Types\n",
        "x2 = 20                                    # int\n",
        "x3 = 20.5                                  # float\n",
        "x4 = 1j                                    # complex\n",
        "\n",
        "# Sequence Types\n",
        "x5 = [\"apple\", \"banana\", \"cherry\"]         # list\n",
        "x6 = (\"apple\", \"banana\", \"cherry\")         # tuple\n",
        "x7 = range(6)                              # range\n",
        "\n",
        "# Mapping Type\n",
        "x8 = {\"name\": \"John\", \"age\": 36}           # dict\n",
        "\n",
        "# Set Type\n",
        "x9 = {\"apple\", \"banana\", \"cherry\"}         # set\n",
        "x10 = frozenset({\"apple\", \"banana\", \"cherry\"})  # frozenset\n",
        "\n",
        "# Boolean Type\n",
        "x11 = True                                 # bool\n",
        "\n",
        "\n",
        "# None Type\n",
        "x12 = None                                 # NoneType\n",
        "\n",
        "# Print type of each variable\n",
        "print(type(x1))\n",
        "print(type(x2))\n",
        "print(type(x3))\n",
        "print(type(x4))\n",
        "print(type(x5))\n",
        "print(type(x6))\n",
        "print(type(x7))\n",
        "print(type(x8))\n",
        "print(type(x9))\n",
        "print(type(x10))\n",
        "print(type(x11))\n",
        "print(type(x12))\n",
        "\n",
        "notes_observations = '''\n",
        "Python Data Types — Concise Notes\n",
        "\n",
        "• Everything is an object; Python is dynamically typed.\n",
        "• Use type() or isinstance() to check types.\n",
        "\n",
        "str → immutable, ordered, supports slicing.\n",
        "int, float, complex → numeric; / gives float, // gives floor division.\n",
        "list (mutable), tuple (immutable), range (sequence generator).\n",
        "dict → key–value pairs; keys unique and immutable.\n",
        "set (mutable, no duplicates), frozenset (immutable set).\n",
        "bool → subclass of int; True == 1, False == 0.\n",
        "None → only one instance; use \"is None\", not \"==\".\n",
        "\n",
        "Mutable: list, dict, set.\n",
        "Immutable: str, tuple, frozenset, int, float, bool.\n",
        "\n",
        "Use copy() for mutable copies.\n",
        "Avoid mutable defaults in functions.\n",
        "'''"
      ]
    },
    {
      "cell_type": "markdown",
      "source": [
        "## Number Types and Type Conversion"
      ],
      "metadata": {
        "id": "44T86PATBNlx"
      }
    },
    {
      "cell_type": "code",
      "source": [
        "# Different types of Numbers in Python\n",
        "\n",
        "# Integer\n",
        "x_int = 10\n",
        "print(x_int, \"=>\", type(x_int))   # int\n",
        "\n",
        "# Float\n",
        "x_float = 10.5\n",
        "print(x_float, \"=>\", type(x_float))  # float\n",
        "\n",
        "# Complex\n",
        "x_complex = 3 + 4j\n",
        "print(x_complex, \"=>\", type(x_complex))  # complex\n",
        "\n",
        "# Boolean (a subtype of int)\n",
        "x_bool = True\n",
        "print(x_bool, \"=>\", type(x_bool))  # bool\n",
        "\n",
        "# Conversion examples\n",
        "print(\"\\n--- Type Conversions ---\")\n",
        "print(float(x_int))     # int → float\n",
        "print(int(x_float))     # float → int\n",
        "print(complex(x_int))   # int → complex\n",
        "\n",
        "# Checking numeric behavior\n",
        "print(\"\\n--- Numeric Operations ---\")\n",
        "print(x_int + x_float)    # int + float = float\n",
        "print(x_int + x_complex)  # int + complex = complex\n",
        "\n",
        "notes_and_observations = '''\n",
        "Python Number Types — Concise Notes\n",
        "\n",
        "• int → whole numbers, unlimited length.\n",
        "• float → decimal numbers, precision ~15–17 digits.\n",
        "• complex → written as a + bj; use .real and .imag for parts.\n",
        "• bool → subclass of int; True == 1, False == 0.\n",
        "\n",
        "Type conversion:\n",
        "int() → truncates decimals.\n",
        "float() → adds decimal point.\n",
        "complex(a, b) → creates complex number a + bj.\n",
        "\n",
        "Operation rules:\n",
        "int + float → float\n",
        "int + complex → complex\n",
        "float + complex → complex\n",
        "\n",
        "Note:\n",
        "Division (/) always returns float; use // for floor division.\n",
        "All numeric types support arithmetic, comparison, and type casting.\n",
        "'''\n",
        "\n"
      ],
      "metadata": {
        "colab": {
          "base_uri": "https://localhost:8080/"
        },
        "id": "WAHDQPYPANJW",
        "outputId": "084b6456-ce06-410f-ce50-02b574e355d5"
      },
      "execution_count": 1,
      "outputs": [
        {
          "output_type": "stream",
          "name": "stdout",
          "text": [
            "10 => <class 'int'>\n",
            "10.5 => <class 'float'>\n",
            "(3+4j) => <class 'complex'>\n",
            "True => <class 'bool'>\n",
            "\n",
            "--- Type Conversions ---\n",
            "10.0\n",
            "10\n",
            "(10+0j)\n",
            "\n",
            "--- Numeric Operations ---\n",
            "20.5\n",
            "(13+4j)\n"
          ]
        }
      ]
    },
    {
      "cell_type": "code",
      "source": [
        "# To Float:\n",
        "\n",
        "x = float(1)     # x will be 1.0\n",
        "y = float(2.8)   # y will be 2.8\n",
        "z = float(\"3\")   # z will be 3.0\n",
        "w = float(\"4.2\") # w will be 4.2\n",
        "\n",
        "print(type(x))\n",
        "print(type(y))\n",
        "print(type(z))\n",
        "print(type(w))\n",
        "\n",
        "notes_observations = '''\n",
        "Float Conversion — Key Notes\n",
        "\n",
        "• float() converts integers and numeric strings to floating-point numbers.\n",
        "• Examples:\n",
        "    float(1) → 1.0\n",
        "    float(\"3\") → 3.0\n",
        "    float(\"4.2\") → 4.2\n",
        "• Strings must represent valid numeric values, else ValueError occurs.\n",
        "• float() cannot convert non-numeric strings (e.g., float(\"abc\")).\n",
        "• Result is always of type float.\n",
        "'''\n"
      ],
      "metadata": {
        "colab": {
          "base_uri": "https://localhost:8080/"
        },
        "id": "4pdXtg7y5W0l",
        "outputId": "9ffe79f8-f7db-4514-bc11-3c13c13cdb7e"
      },
      "execution_count": 8,
      "outputs": [
        {
          "output_type": "stream",
          "name": "stdout",
          "text": [
            "<class 'float'>\n",
            "<class 'float'>\n",
            "<class 'float'>\n",
            "<class 'float'>\n"
          ]
        }
      ]
    },
    {
      "cell_type": "code",
      "source": [
        "# These are also floats\n",
        "\n",
        "x=35e3\n",
        "y=-3e56\n",
        "print(type(x))\n",
        "print(type(y))\n",
        "\n",
        "notes_and_observations = '''\n",
        "Python Float in Exponential Form — Key Points\n",
        "\n",
        "• Numbers with 'e' or 'E' use scientific (exponential) notation.\n",
        "• 35e3 means 35 × 10³ → 35000.0\n",
        "• -3e56 means -3 × 10⁵⁶\n",
        "• Such values are always of type float, even if no decimal is written.\n",
        "• Useful for representing very large or very small numbers.\n",
        "'''\n"
      ],
      "metadata": {
        "colab": {
          "base_uri": "https://localhost:8080/"
        },
        "id": "JWwDIh8wuPNx",
        "outputId": "64f7bd3b-fe4a-4c1d-9dfc-39ce37c5ff90"
      },
      "execution_count": 9,
      "outputs": [
        {
          "output_type": "stream",
          "name": "stdout",
          "text": [
            "<class 'float'>\n",
            "<class 'float'>\n"
          ]
        }
      ]
    },
    {
      "cell_type": "code",
      "source": [
        "# closely viewing complex again\n",
        "\n",
        "x=1\n",
        "print(complex(x))\n",
        "\n",
        "few_observations_complex = '''\n",
        "Complex Numbers — Quick Notes\n",
        "\n",
        "• complex(x) → converts x to a complex number with imaginary part 0.\n",
        "  Example: complex(1) → (1+0j)\n",
        "• complex(a, b) → creates a complex number a + bj.\n",
        "  Example: complex(3, 4) → (3+4j)\n",
        "• Use .real and .imag to access parts:\n",
        "    z = 3 + 4j\n",
        "    z.real → 3.0\n",
        "    z.imag → 4.0\n",
        "• The imaginary part is written with 'j' (not 'i' as in math).\n",
        "'''\n"
      ],
      "metadata": {
        "colab": {
          "base_uri": "https://localhost:8080/"
        },
        "id": "1rygRNzRvFyE",
        "outputId": "759b9a01-165d-4a01-ad23-b2c1d582d50f"
      },
      "execution_count": 12,
      "outputs": [
        {
          "output_type": "stream",
          "name": "stdout",
          "text": [
            "(1+0j)\n"
          ]
        }
      ]
    },
    {
      "cell_type": "code",
      "source": [
        "# To String:\n",
        "\n",
        "x = str(\"s1\")\n",
        "y = str(2)\n",
        "z = str(3.0)\n",
        "print(x)\n",
        "print(y)\n",
        "print(z)\n",
        "\n",
        "notes_and_observations = '''\n",
        "String Conversion — Key Notes\n",
        "\n",
        "• str() converts any object to its string representation.\n",
        "• Examples:\n",
        "    str(\"s1\") → 's1'\n",
        "    str(2) → '2'\n",
        "    str(3.0) → '3.0'\n",
        "• Works for all data types (int, float, bool, etc.).\n",
        "• Commonly used for printing or concatenating values.\n",
        "• Output type is always <class 'str'>.\n",
        "'''\n"
      ],
      "metadata": {
        "colab": {
          "base_uri": "https://localhost:8080/"
        },
        "id": "QRZsHDnj6Cr1",
        "outputId": "5662d8a8-2304-43ea-8958-7319b7f8ae09"
      },
      "execution_count": 11,
      "outputs": [
        {
          "output_type": "stream",
          "name": "stdout",
          "text": [
            "s1\n",
            "2\n",
            "3.0\n"
          ]
        }
      ]
    },
    {
      "cell_type": "markdown",
      "source": [
        "## Type Converion (Implicit) vs Type Casting (Explicit)"
      ],
      "metadata": {
        "id": "aJWJew0XBrDJ"
      }
    },
    {
      "cell_type": "code",
      "source": [
        "# Implicit Type Conversion (done automatically by Python)\n",
        "x = 5       # int\n",
        "y = 2.5     # float\n",
        "z = x + y   # int + float → float\n",
        "print(z, type(z))\n",
        "\n",
        "# Explicit Type Casting (done manually by programmer)\n",
        "a = \"10\"           # str\n",
        "b = int(a) + 5     # convert str → int\n",
        "print(b, type(b))\n",
        "\n",
        "notes_and_observations = '''\n",
        "Type Conversion in Python — Summary\n",
        "\n",
        "Implicit Conversion:\n",
        "• Happens automatically by Python.\n",
        "• Occurs in mixed-type operations (e.g., int + float → float).\n",
        "• Python promotes smaller type → larger type (int → float → complex).\n",
        "\n",
        "Explicit Conversion:\n",
        "• Done manually using functions like int(), float(), str(), complex().\n",
        "• Example: int(\"10\") → 10\n",
        "• Invalid casts (e.g., int(\"abc\")) raise ValueError.\n",
        "• Always ensure valid data before casting.\n",
        "'''\n"
      ],
      "metadata": {
        "colab": {
          "base_uri": "https://localhost:8080/"
        },
        "id": "liAOvRuNBAfY",
        "outputId": "8b1bd258-2008-4c83-e9ce-86620f50f889"
      },
      "execution_count": 2,
      "outputs": [
        {
          "output_type": "stream",
          "name": "stdout",
          "text": [
            "7.5 <class 'float'>\n",
            "15 <class 'int'>\n"
          ]
        }
      ]
    },
    {
      "cell_type": "markdown",
      "source": [
        "## Strings (Triple Quotes)"
      ],
      "metadata": {
        "id": "L7gmVhT00JDx"
      }
    },
    {
      "cell_type": "code",
      "source": [
        "# This is a simple try out (printing with triple quotes)\n",
        "print(\"\"\"Shahwar\"\"\")\n",
        "print(\"\"\"I'm Shahwar,\n",
        "I am a RACE, REVA student.\"\"\")\n",
        "\n",
        "notes_and_observations = '''\n",
        "Triple Quotes — Key Notes\n",
        "\n",
        "• Triple quotes (single or double) define multiline string literals.\n",
        "• Useful for:\n",
        "    – Writing multi-line text or docstrings.\n",
        "    – Preserving line breaks and indentation.\n",
        "• Example:\n",
        "    The 2nd print in the code cell,\n",
        "  → prints on multiple lines as written.\n",
        "• The 1st example in the cell, triple quotes, double quotes or single quotes, all works the same.\n",
        "• Triple quotes can be nested with single quotes safely. (IMPORTANT advantage)\n",
        "'''\n"
      ],
      "metadata": {
        "colab": {
          "base_uri": "https://localhost:8080/"
        },
        "id": "RwZtsucbwN6j",
        "outputId": "dfd94aff-7613-4e70-9933-009ec85f2ebc"
      },
      "execution_count": 14,
      "outputs": [
        {
          "output_type": "stream",
          "name": "stdout",
          "text": [
            "Shahwar\n",
            "I'm Shahwar,\n",
            "I am a RACE, REVA student.\n"
          ]
        }
      ]
    },
    {
      "cell_type": "markdown",
      "source": [
        "## Strings (Quotes within Quotes)"
      ],
      "metadata": {
        "id": "3TVCPNOv9l1T"
      }
    },
    {
      "cell_type": "code",
      "source": [
        "# Quotes inside Quotes\n",
        "\n",
        "print(\"It's alright\")\n",
        "print(\"He is called 'Johnny'\")\n",
        "print('He is called \"Johnny\"')\n",
        "\n",
        "notes = '''\n",
        "Quotes in Strings — Key Notes\n",
        "\n",
        "• Strings can use single or double quotes interchangeably.\n",
        "• Use opposite quote type inside a string to avoid escaping.\n",
        "• Mixing quotes prevents syntax errors.\n",
        "• If both types are needed, escape one using backslash.\n",
        "• Triple quotes, can also hold both quote types easily.\n",
        "'''\n"
      ],
      "metadata": {
        "colab": {
          "base_uri": "https://localhost:8080/"
        },
        "id": "DSe-52a49bmI",
        "outputId": "b4c63a75-138b-4674-f4b4-792f6661b9ea"
      },
      "execution_count": 19,
      "outputs": [
        {
          "output_type": "stream",
          "name": "stdout",
          "text": [
            "It's alright\n",
            "He is called 'Johnny'\n",
            "He is called \"Johnny\"\n"
          ]
        }
      ]
    },
    {
      "cell_type": "markdown",
      "source": [
        "## Strings (multiline strings)"
      ],
      "metadata": {
        "id": "P2-1h_Zz-QsA"
      }
    },
    {
      "cell_type": "code",
      "source": [
        "a = \"\"\"Lorem ipsum dolor sit amet,\n",
        "consectetur adipiscing elit,\n",
        "sed do eiusmod tempor incididunt\n",
        "ut labore et dolore magna aliqua.\"\"\"\n",
        "print(a)\n",
        "\n",
        "notes = '''\n",
        "Multiline Strings — Key Notes\n",
        "\n",
        "• Created using triple quotes.\n",
        "• Preserve line breaks, spaces, and formatting as written.\n",
        "• Can span multiple lines without using newline characters (\\n).\n",
        "• Often used for:\n",
        "    – Multi-line text content.\n",
        "    – Docstrings (function or class documentation).\n",
        "'''\n"
      ],
      "metadata": {
        "colab": {
          "base_uri": "https://localhost:8080/"
        },
        "id": "7DRYh3t5-VxA",
        "outputId": "90838d34-a5f1-4fe3-e8cf-472ffbfcd95e"
      },
      "execution_count": 21,
      "outputs": [
        {
          "output_type": "stream",
          "name": "stdout",
          "text": [
            "Lorem ipsum dolor sit amet,\n",
            "consectetur adipiscing elit,\n",
            "sed do eiusmod tempor incididunt\n",
            "ut labore et dolore magna aliqua.\n"
          ]
        }
      ]
    },
    {
      "cell_type": "markdown",
      "source": [
        "## Strings (strings are arrays)"
      ],
      "metadata": {
        "id": "S2A4FOhtAk8R"
      }
    },
    {
      "cell_type": "code",
      "source": [
        "a = \"Hello, World!\"\n",
        "print(a[1])\n",
        "\n",
        "notes = '''\n",
        "Strings as Arrays — Key Notes\n",
        "\n",
        "• In Python, strings are sequences (arrays) of Unicode characters.\n",
        "• There is no separate character type; a single character is a string of length 1.\n",
        "• Characters can be accessed using square brackets [] with zero-based indexing.\n",
        "\n",
        "Example:\n",
        "a = \"Hello, World!\"\n",
        "print(a[1])   # Output: e\n",
        "\n",
        "• Index starts at 0 → a[0] = 'H', a[1] = 'e', etc.\n",
        "• Negative indices count from the end → a[-1] = '!'.\n",
        "• Strings are immutable — you cannot change characters directly.\n",
        "'''\n"
      ],
      "metadata": {
        "colab": {
          "base_uri": "https://localhost:8080/"
        },
        "id": "INlBxVq5Aos5",
        "outputId": "94618337-df7a-43c2-8061-6fbbc6e3f6bd"
      },
      "execution_count": 24,
      "outputs": [
        {
          "output_type": "stream",
          "name": "stdout",
          "text": [
            "e\n"
          ]
        }
      ]
    },
    {
      "cell_type": "markdown",
      "source": [
        "## Strings (looping through it)"
      ],
      "metadata": {
        "id": "w8hOM3W4Bib6"
      }
    },
    {
      "cell_type": "code",
      "source": [
        "for x in \"banana\":\n",
        "  print(x)\n",
        "\n",
        "notes = '''\n",
        "Looping Through Strings — Key Notes\n",
        "\n",
        "• Strings are iterable sequences of characters.\n",
        "• Using a for-loop, each iteration gives one character at a time.\n",
        "• Each loop iteration processes one character (string of length 1).\n",
        "• Useful for character-by-character operations like counting, searching, etc.\n",
        "'''"
      ],
      "metadata": {
        "colab": {
          "base_uri": "https://localhost:8080/"
        },
        "id": "2z1ltXY9BsGI",
        "outputId": "3ce28d79-6844-4feb-9889-36f01c1bfcaf"
      },
      "execution_count": 26,
      "outputs": [
        {
          "output_type": "stream",
          "name": "stdout",
          "text": [
            "b\n",
            "a\n",
            "n\n",
            "a\n",
            "n\n",
            "a\n"
          ]
        }
      ]
    },
    {
      "cell_type": "markdown",
      "source": [
        "## Strings (length)"
      ],
      "metadata": {
        "id": "07jEmx0NDVL6"
      }
    },
    {
      "cell_type": "code",
      "source": [
        "a = \"Hello, World!\"\n",
        "print(len(a))\n",
        "\n",
        "\n",
        "\n",
        "notes = '''\n",
        "len() Function — Key Notes\n",
        "\n",
        "• len() returns the number of characters in a string.\n",
        "• Counts letters, spaces, punctuation — all characters included.\n",
        "• Works for other data types too:\n",
        "    len(list), len(tuple), len(dict), etc.\n",
        "• Raises TypeError if object has no defined length.\n",
        "'''\n"
      ],
      "metadata": {
        "colab": {
          "base_uri": "https://localhost:8080/"
        },
        "id": "c9MAkj2MDZUe",
        "outputId": "a240d69f-11d8-4e35-fd4f-ffc112a2a3f0"
      },
      "execution_count": 31,
      "outputs": [
        {
          "output_type": "stream",
          "name": "stdout",
          "text": [
            "13\n"
          ]
        }
      ]
    },
    {
      "cell_type": "markdown",
      "source": [
        "## Strings (Memberships `in` / `not in`)"
      ],
      "metadata": {
        "id": "4ZEtYRpl0tOo"
      }
    },
    {
      "cell_type": "code",
      "source": [
        "fruits = [\"apple\", \"banana\", \"cherry\"]\n",
        "\n",
        "print(\"banana\" in fruits)      # True\n",
        "print(\"grapes\" not in fruits)  # True\n",
        "\n",
        "\n",
        "\n",
        "notes = '''\n",
        "Membership Operators — Key Notes\n",
        "\n",
        "• 'in' → checks if an element exists in a sequence (string, list, tuple, etc.).\n",
        "• 'not in' → checks if an element does NOT exist.\n",
        "• Returns a boolean (True or False).\n",
        "• Works for strings too: \"a\" in \"apple\" → True.\n",
        "'''\n",
        "\n"
      ],
      "metadata": {
        "colab": {
          "base_uri": "https://localhost:8080/"
        },
        "id": "rUQjbnJ503vO",
        "outputId": "c20dff03-5051-4431-dd50-c263964ee2f0"
      },
      "execution_count": 30,
      "outputs": [
        {
          "output_type": "stream",
          "name": "stdout",
          "text": [
            "True\n",
            "True\n"
          ]
        }
      ]
    },
    {
      "cell_type": "markdown",
      "source": [
        "## Strings (Accessing)"
      ],
      "metadata": {
        "id": "n0aegRNBCFN1"
      }
    },
    {
      "cell_type": "code",
      "source": [
        "# --- Accessing Characters in a String ---\n",
        "\n",
        "text = \"Python\"\n",
        "\n",
        "# Positive Indexing\n",
        "print(text[0])    # First character → 'P'\n",
        "print(text[3])    # Fourth character → 'h'\n",
        "\n",
        "# Negative Indexing\n",
        "print(text[-1])   # Last character → 'n'\n",
        "print(text[-3])   # Third from end → 'h'\n",
        "\n",
        "\n",
        "\n",
        "notes = '''\n",
        "Accessing Characters in Strings — Key Notes\n",
        "\n",
        "• Strings support both positive and negative indexing.\n",
        "\n",
        "Positive Indexing:\n",
        "text[0] → first character\n",
        "text[1] → second character\n",
        "text[3] → fourth character\n",
        "\n",
        "Negative Indexing:\n",
        "text[-1] → last character\n",
        "text[-2] → second last character\n",
        "text[-3] → third from end\n",
        "\n",
        "• Indexing starts at 0 from the left and -1 from the right.\n",
        "• Accessing an index out of range raises IndexError.\n",
        "'''"
      ],
      "metadata": {
        "colab": {
          "base_uri": "https://localhost:8080/"
        },
        "id": "30lR7uwnB0Wa",
        "outputId": "e3acb718-b352-4bf7-9c20-c07e6dadf3c5"
      },
      "execution_count": 32,
      "outputs": [
        {
          "output_type": "stream",
          "name": "stdout",
          "text": [
            "P\n",
            "h\n",
            "n\n",
            "h\n"
          ]
        }
      ]
    },
    {
      "cell_type": "code",
      "source": [
        "# From left indexing starts at 0\n",
        "# From right, indexing starts -1"
      ],
      "metadata": {
        "id": "Ry3d9kfmxqZH"
      },
      "execution_count": null,
      "outputs": []
    },
    {
      "cell_type": "markdown",
      "source": [
        "## Strings (Slicing)"
      ],
      "metadata": {
        "id": "TSXoKYR8Dh7s"
      }
    },
    {
      "cell_type": "code",
      "source": [
        "# --- Slicing Strings ---\n",
        "\n",
        "text = \"PythonProgramming\"\n",
        "\n",
        "# From start to specific index\n",
        "print(text[:6])        # 'Python'\n",
        "\n",
        "# From specific index to end\n",
        "print(text[6:])        # 'Programming'\n",
        "\n",
        "# Slice between indexes\n",
        "print(text[0:12])      # 'PythonProgra'\n",
        "\n",
        "# Full string\n",
        "print(text[:])         # 'PythonProgramming'\n",
        "\n",
        "# Negative slicing\n",
        "print(text[-11:-6])    # 'Progr'\n",
        "\n",
        "\n",
        "\n",
        "notes = '''\n",
        "String Slicing — Key Notes\n",
        "\n",
        "• Slicing extracts a substring using the syntax: string[start:end].\n",
        "• The slice includes start index, excludes end index.\n",
        "• Negative indices count from end:\n",
        "  text[-11:-6] → substring from 11th last to 6th last character.\n",
        "• Slicing never raises IndexError — out-of-range indices are handled safely.\n",
        "• Step parameter also allowed: text[start:end:step].\n",
        "'''\n"
      ],
      "metadata": {
        "colab": {
          "base_uri": "https://localhost:8080/"
        },
        "id": "9jSgN9LICGlY",
        "outputId": "fc9d5c08-30f9-405a-b9da-a13ec3d0e98f"
      },
      "execution_count": 33,
      "outputs": [
        {
          "output_type": "stream",
          "name": "stdout",
          "text": [
            "Python\n",
            "Programming\n",
            "PythonProgra\n",
            "PythonProgramming\n",
            "Progr\n"
          ]
        }
      ]
    },
    {
      "cell_type": "markdown",
      "source": [
        "## String (Upper Case)"
      ],
      "metadata": {
        "id": "ZTyYuXyrDnoC"
      }
    },
    {
      "cell_type": "code",
      "source": [
        "a = \"Hello, World!\"\n",
        "print(a.upper())\n",
        "\n",
        "\n",
        "\n",
        "notes = '''\n",
        "String upper() Method — Key Notes\n",
        "\n",
        "• a.upper() returns a copy of the string with all characters in uppercase.\n",
        "• Original string remains unchanged (strings are immutable).\n",
        "\n",
        "Example:\n",
        "\"Hello, World!\".upper() → \"HELLO, WORLD!\"\n",
        "\n",
        "• Useful for case-insensitive comparisons or formatting.\n",
        "'''\n"
      ],
      "metadata": {
        "colab": {
          "base_uri": "https://localhost:8080/"
        },
        "id": "QoD-oXeHNuIK",
        "outputId": "52d337d7-f05a-4b71-c09a-8973be83b27c"
      },
      "execution_count": 35,
      "outputs": [
        {
          "output_type": "stream",
          "name": "stdout",
          "text": [
            "HELLO, WORLD!\n"
          ]
        }
      ]
    },
    {
      "cell_type": "markdown",
      "source": [
        "## Strings (Lower Case)"
      ],
      "metadata": {
        "id": "xpX1IE2xOKD7"
      }
    },
    {
      "cell_type": "code",
      "source": [
        "a = \"Hello, World!\"\n",
        "print(a.lower())\n",
        "\n",
        "\n",
        "\n",
        "notes = '''\n",
        "String lower() Method — Key Notes\n",
        "\n",
        "• a.lower() returns a copy of the string with all characters in lowercase.\n",
        "• Original string remains unchanged (immutable).\n",
        "\n",
        "Example:\n",
        "\"Hello, World!\".lower() → \"hello, world!\"\n",
        "\n",
        "• Commonly used for case-insensitive text comparisons.\n",
        "'''\n"
      ],
      "metadata": {
        "colab": {
          "base_uri": "https://localhost:8080/"
        },
        "id": "qd0Xel1nOM4H",
        "outputId": "70fe4f46-f96c-4db9-f7bf-b4cce0eb8d13"
      },
      "execution_count": 38,
      "outputs": [
        {
          "output_type": "stream",
          "name": "stdout",
          "text": [
            "hello, world!\n"
          ]
        }
      ]
    },
    {
      "cell_type": "markdown",
      "source": [
        "## Strings (Remove White Space)"
      ],
      "metadata": {
        "id": "6y0iHVobOP3h"
      }
    },
    {
      "cell_type": "code",
      "source": [
        "a = \" Hello, World! \"\n",
        "print(a.strip())\n",
        "print(a.strip(\"!Hd \"))\n",
        "\n",
        "\n",
        "\n",
        "notes = '''\n",
        "String strip() Method — Key Notes\n",
        "\n",
        "• a.strip() removes leading and trailing whitespace (spaces, tabs, newlines).\n",
        "• Does NOT remove spaces between words.\n",
        "\n",
        "Example:\n",
        "\" Hello, World! \".strip() → \"Hello, World!\"\n",
        "\n",
        "• To remove specific characters: a.strip(\"!Hd \")\n",
        "• Original string remains unchanged (returns a new string).\n",
        "'''\n"
      ],
      "metadata": {
        "colab": {
          "base_uri": "https://localhost:8080/"
        },
        "id": "gTajZt5xOUfW",
        "outputId": "3c3f7b4f-34a2-40e1-acad-5f5c5d00f529"
      },
      "execution_count": 43,
      "outputs": [
        {
          "output_type": "stream",
          "name": "stdout",
          "text": [
            "Hello, World!\n",
            "ello, Worl\n"
          ]
        }
      ]
    },
    {
      "cell_type": "markdown",
      "source": [
        "## Strings (Replace Strings)"
      ],
      "metadata": {
        "id": "mpZe63lYQiMT"
      }
    },
    {
      "cell_type": "code",
      "source": [
        "a = \"Hello, World!\"\n",
        "print(a.replace(\"H\", \"J\"))\n",
        "\n",
        "\n",
        "\n",
        "\n",
        "notes = '''\n",
        "String replace() Method — Key Notes\n",
        "\n",
        "• a.replace(old, new) returns a new string with all occurrences of 'old' replaced by 'new'.\n",
        "• Example:\n",
        "  \"Hello, World!\".replace(\"H\", \"J\") → \"Jello, World!\"\n",
        "• You can optionally specify a count: a.replace(\"l\", \"x\", 2) → replaces first 2 occurrences.\n",
        "• Original string is unchanged (strings are immutable).\n",
        "'''\n"
      ],
      "metadata": {
        "colab": {
          "base_uri": "https://localhost:8080/"
        },
        "id": "OjU0RPdHQqQd",
        "outputId": "55bc3970-ef5f-4990-a716-1c970c245f6e"
      },
      "execution_count": 44,
      "outputs": [
        {
          "output_type": "stream",
          "name": "stdout",
          "text": [
            "Jello, World!\n"
          ]
        }
      ]
    },
    {
      "cell_type": "markdown",
      "source": [
        "## Strings (Split)"
      ],
      "metadata": {
        "id": "NpVzPMqhQ-t0"
      }
    },
    {
      "cell_type": "code",
      "source": [
        "a = \"Hello, World!\"\n",
        "print(a.split(\",\"))\n",
        "\n",
        "\n",
        "\n",
        "notes = '''\n",
        "String split() Method — Key Notes\n",
        "\n",
        "• a.split(separator) splits the string into a list based on the given separator.\n",
        "• Example:\n",
        "  \"Hello, World!\".split(\",\") → ['Hello', ' World!']\n",
        "• Default separator (if none provided) is any whitespace.\n",
        "• Useful for breaking strings into parts (e.g., words, CSV values).\n",
        "• Returns a list; original string remains unchanged.\n",
        "'''\n"
      ],
      "metadata": {
        "colab": {
          "base_uri": "https://localhost:8080/"
        },
        "id": "8pPwC2bXRDPZ",
        "outputId": "e8652e7f-00ef-4c10-9f41-75a3caad0e4f"
      },
      "execution_count": 46,
      "outputs": [
        {
          "output_type": "stream",
          "name": "stdout",
          "text": [
            "['Hello', ' World!']\n"
          ]
        }
      ]
    },
    {
      "cell_type": "code",
      "source": [
        "# --- Common String Methods (Let's have a quick look)---\n",
        "\n",
        "sample = \"  Hello, Python World!  \"\n",
        "\n",
        "print(sample.strip())            # Removes extra spaces → 'Hello, Python World!'\n",
        "print(sample.replace(\"Python\", \"Java\"))  # Replace substring → '  Hello, Java World!  '\n",
        "print(sample.split())             # Split into words → ['Hello,', 'Python', 'World!']\n",
        "print(sample.lower())             # Lowercase\n",
        "print(sample.upper())             # Uppercase\n",
        "print(sample.title())             # Title Case\n",
        "print(sample.startswith(\"  He\"))  # True\n",
        "print(sample.endswith(\"!  \"))     # True\n",
        "print(len(sample))                # Length (including spaces)\n",
        "print(\"Python\" in sample)         # Membership test → True\n"
      ],
      "metadata": {
        "colab": {
          "base_uri": "https://localhost:8080/"
        },
        "id": "mz8kLFE6Dkkl",
        "outputId": "46b5b2d0-63df-4861-e717-3d3d08cf66e2"
      },
      "execution_count": 47,
      "outputs": [
        {
          "output_type": "stream",
          "name": "stdout",
          "text": [
            "Hello, Python World!\n",
            "  Hello, Java World!  \n",
            "['Hello,', 'Python', 'World!']\n",
            "  hello, python world!  \n",
            "  HELLO, PYTHON WORLD!  \n",
            "  Hello, Python World!  \n",
            "True\n",
            "True\n",
            "24\n",
            "True\n"
          ]
        }
      ]
    },
    {
      "cell_type": "markdown",
      "source": [
        "## Strings (Concatenation)"
      ],
      "metadata": {
        "id": "t12HI6_KD35L"
      }
    },
    {
      "cell_type": "code",
      "source": [
        "# --- String Concatenation ---\n",
        "\n",
        "# Using + operator\n",
        "str1 = \"Hello\"\n",
        "str2 = \"World\"\n",
        "result = str1 + \" \" + str2\n",
        "print(result)      # Output: Hello World\n",
        "\n",
        "# Concatenating multiple strings\n",
        "greet = \"Good\" + \" \" + \"Morning\" + \"!\"\n",
        "print(greet)       # Output: Good Morning!\n",
        "\n",
        "# Using += operator (append to existing string)\n",
        "msg = \"Python\"\n",
        "msg += \" Programming\"\n",
        "print(msg)         # Output: Python Programming\n",
        "\n",
        "# Using join() method (useful for lists)\n",
        "words = [\"Python\", \"is\", \"fun\"]\n",
        "sentence = \" \".join(words)\n",
        "print(sentence)    # Output: Python is fun\n",
        "\n",
        "\n",
        "\n",
        "\n",
        "notes = '''\n",
        "String Concatenation — Key Notes\n",
        "\n",
        "• The + operator joins strings directly.\n",
        "  Example: \"Hello\" + \" \" + \"World\" → \"Hello World\"\n",
        "\n",
        "• The += operator appends to an existing string.\n",
        "  Example: msg = \"Hi\"; msg += \" there\" → \"Hi there\"\n",
        "\n",
        "• join() is preferred for combining list or iterable of strings.\n",
        "  Example: \" \".join([\"Python\", \"is\", \"fun\"]) → \"Python is fun\"\n",
        "\n",
        "• All operands must be strings; mixing other types raises TypeError.\n",
        "  Use str() to convert non-string values if needed.\n",
        "'''\n"
      ],
      "metadata": {
        "colab": {
          "base_uri": "https://localhost:8080/"
        },
        "id": "UKyxQviWDrPx",
        "outputId": "f4a7b439-14ed-42ff-8f7f-e0a6064611cf"
      },
      "execution_count": 48,
      "outputs": [
        {
          "output_type": "stream",
          "name": "stdout",
          "text": [
            "Hello World\n",
            "Good Morning!\n",
            "Python Programming\n",
            "Python is fun\n"
          ]
        }
      ]
    },
    {
      "cell_type": "markdown",
      "source": [
        "## Strings (F String)"
      ],
      "metadata": {
        "id": "K_1-eA6DD8vh"
      }
    },
    {
      "cell_type": "code",
      "source": [
        "# --- Using f-strings ---\n",
        "\n",
        "name = \"Alice\"\n",
        "age = 25\n",
        "marks = 92.7\n",
        "\n",
        "# Basic usage\n",
        "print(f\"My name is {name}, I am {age} years old, and scored {marks}%.\")\n",
        "\n",
        "# Using expressions inside {}\n",
        "print(f\"Next year, I’ll be {age + 1} years old.\")\n",
        "\n",
        "# Formatting numbers\n",
        "pi = 3.1415926\n",
        "print(f\"Value of pi up to 2 decimals: {pi:.2f}\")\n",
        "\n",
        "# Using f-strings with dictionary or variables\n",
        "person = {\"name\": \"Bob\", \"age\": 30}\n",
        "print(f\"{person['name']} is {person['age']} years old.\")\n",
        "\n",
        "# Alignment and spacing\n",
        "print(f\"|{'Python':^10}|{'Rocks':>10}|{'!':<5}|\")  # center, right, left\n",
        "\n",
        "\n",
        "\n",
        "\n",
        "'''\n",
        "f-Strings — Key Notes\n",
        "\n",
        "• Introduced in Python 3.6 for easier string formatting.\n",
        "• Syntax: f\"Text {expression}\" — expressions inside {} are evaluated at runtime.\n",
        "\n",
        "Examples:\n",
        "f\"My name is {name}\" → inserts variable value.\n",
        "f\"{age + 1}\" → allows expressions and calculations.\n",
        "f\"{pi:.2f}\" → formats float to 2 decimal places.\n",
        "f\"{person['name']}\" → works with dicts and complex expressions.\n",
        "\n",
        "• Supports alignment:\n",
        "  {:<} → left-align, {:>} → right-align, {:^} → center-align.\n",
        "  Example: f\"|{'Python':^10}|{'Rocks':>10}|{'!':<5}|\"\n",
        "\n",
        "• Faster and more readable than format() or % formatting.\n",
        "'''\n"
      ],
      "metadata": {
        "colab": {
          "base_uri": "https://localhost:8080/"
        },
        "id": "qw95pmDHD7zY",
        "outputId": "6c63eee4-9e23-4c22-acac-c209bf862d73"
      },
      "execution_count": null,
      "outputs": [
        {
          "output_type": "stream",
          "name": "stdout",
          "text": [
            "My name is Alice, I am 25 years old, and scored 92.7%.\n",
            "Next year, I’ll be 26 years old.\n",
            "Value of pi up to 2 decimals: 3.14\n",
            "Bob is 30 years old.\n",
            "|  Python  |     Rocks|!    |\n"
          ]
        }
      ]
    },
    {
      "cell_type": "code",
      "source": [
        "# more tests on format strings\n",
        "def add(a,b):\n",
        "  return a+b\n",
        "print(f\"Numbers added up : {add(5,7)}\")\n",
        "\n",
        "\n",
        "\n",
        "notes = '''\n",
        "f-Strings with Functions — Key Notes\n",
        "\n",
        "• You can call functions or perform operations directly inside {}.\n",
        "• Example:\n",
        "  def add(a, b):\n",
        "      return a + b\n",
        "  print(f\"Sum: {add(5, 7)}\") → \"Sum: 12\"\n",
        "\n",
        "• Any valid Python expression can be used inside f-string braces.\n",
        "• f-strings are evaluated at runtime, so function return values appear directly in output.\n",
        "• Useful for embedding computed or dynamic values in formatted strings.\n",
        "'''\n"
      ],
      "metadata": {
        "colab": {
          "base_uri": "https://localhost:8080/"
        },
        "id": "Od7TCl3L4Oxu",
        "outputId": "6176f695-9d8f-4c08-ae2e-2c5c7536d2ce"
      },
      "execution_count": 49,
      "outputs": [
        {
          "output_type": "stream",
          "name": "stdout",
          "text": [
            "Numbers added up : 12\n"
          ]
        }
      ]
    },
    {
      "cell_type": "code",
      "source": [
        "# formatting anf int-->float\n",
        "price=59\n",
        "print(f\"The price is : {price:.2f}\")"
      ],
      "metadata": {
        "colab": {
          "base_uri": "https://localhost:8080/"
        },
        "id": "ezy5Q6Sq5UjP",
        "outputId": "d8464e69-687f-46ab-ca7b-00fd0c96a11f"
      },
      "execution_count": null,
      "outputs": [
        {
          "output_type": "stream",
          "name": "stdout",
          "text": [
            "The price is : 59.00\n"
          ]
        }
      ]
    },
    {
      "cell_type": "code",
      "source": [
        "# formatting anf int-->float\n",
        "price=59.43667\n",
        "print(f\"The price is : {price:.2f}\")"
      ],
      "metadata": {
        "colab": {
          "base_uri": "https://localhost:8080/"
        },
        "id": "AEpyEmta5leg",
        "outputId": "462ea445-7af0-44fd-f507-118a3275dc89"
      },
      "execution_count": null,
      "outputs": [
        {
          "output_type": "stream",
          "name": "stdout",
          "text": [
            "The price is : 59.44\n"
          ]
        }
      ]
    },
    {
      "cell_type": "code",
      "source": [
        "print(f\"Numbers added up is : {3+7}\")\n",
        "print(f\"Numbers added up is : {type(3)}\")"
      ],
      "metadata": {
        "colab": {
          "base_uri": "https://localhost:8080/"
        },
        "id": "6Bz6_23S51za",
        "outputId": "74b92511-99eb-4c50-d2f9-a507f038fc15"
      },
      "execution_count": null,
      "outputs": [
        {
          "output_type": "stream",
          "name": "stdout",
          "text": [
            "Numbers added up is : 10\n",
            "Numbers added up is : <class 'int'>\n"
          ]
        }
      ]
    },
    {
      "cell_type": "markdown",
      "source": [
        "## Escape Characters"
      ],
      "metadata": {
        "id": "_-3V5RNbEo20"
      }
    },
    {
      "cell_type": "code",
      "source": [
        "# --- Escape Characters in Strings ---\n",
        "\n",
        "# Using \\\" to include double quotes inside a string\n",
        "txt1 = \"We are the so-called \\\"Vikings\\\" from the north.\" # We ignore those \"\" quotes in the middle\n",
        "print(txt1)   # Output: We are the so-called \"Vikings\" from the north.\n",
        "\n",
        "# Single quote inside single-quoted string\n",
        "txt2 = 'It\\'s a beautiful day!' # Here also we ignore.\n",
        "print(txt2)   # Output: It's a beautiful day!\n",
        "\n",
        "# Backslash itself\n",
        "txt3 = \"This is a backslash: \\\\\" # Basically writing 2 backslases, we ignore and escape back slash and print it\n",
        "print(txt3)   # Output: This is a backslash: \\\n",
        "\n",
        "# New line\n",
        "txt4 = \"Hello\\nWorld\"\n",
        "print(txt4)   # Output:\n",
        "              # Hello\n",
        "              # World\n",
        "\n",
        "# Carriage return\n",
        "txt5 = \"Hello\\rWorld\"\n",
        "print(txt5)   # Output: World  (overwrites 'Hello' depending on terminal)\n",
        "\n",
        "# Tab space\n",
        "txt6 = \"Python\\tRocks\"\n",
        "print(txt6)   # Output: Python    Rocks\n",
        "\n",
        "# Backspace\n",
        "txt7 = \"Hello\\bWorld\"\n",
        "print(txt7)   # Output: HellWorld  (removes 'o')\n",
        "\n",
        "\n",
        "# Escape Characters — Key Notes\n",
        "\n",
        "# • Escape characters start with a backslash (\\) to insert special characters in strings.\n",
        "# • They are used when a character cannot be written directly.\n",
        "\n",
        "# Common escape sequences:\n",
        "# \\\"   → double quote inside double-quoted string\n",
        "# \\'   → single quote inside single-quoted string\n",
        "# \\\\   → backslash itself\n",
        "# \\n   → newline (line break)\n",
        "# \\r   → carriage return (moves cursor to start of line)\n",
        "# \\t   → tab space\n",
        "# \\b   → backspace (removes previous character)\n",
        "\n",
        "# • Example: \"It\\'s \\\"Python\\\"\" → It's \"Python\"\n",
        "# • Useful for formatting output or including special symbols in strings.\n",
        "# • To avoid escaping, use raw strings: r\"Hello\\nWorld\" → prints literal \\n.\n",
        "\n",
        "\n"
      ],
      "metadata": {
        "colab": {
          "base_uri": "https://localhost:8080/"
        },
        "id": "l4QKTNl_D2vs",
        "outputId": "c5edd259-2c01-4526-bdd9-88536c100c16"
      },
      "execution_count": 51,
      "outputs": [
        {
          "output_type": "stream",
          "name": "stdout",
          "text": [
            "We are the so-called \"Vikings\" from the north.\n",
            "It's a beautiful day!\n",
            "This is a backslash: \\\n",
            "Hello\n",
            "World\n",
            "Hello\rWorld\n",
            "Python\tRocks\n",
            "Hello\bWorld\n"
          ]
        }
      ]
    },
    {
      "cell_type": "markdown",
      "source": [
        "## Booleans (Different forms)"
      ],
      "metadata": {
        "id": "f8W2aRO9E71w"
      }
    },
    {
      "cell_type": "code",
      "source": [
        "# --- Python Booleans ---\n",
        "\n",
        "# Boolean values\n",
        "x = True\n",
        "y = False\n",
        "print(x, type(x))    # Output: True <class 'bool'>\n",
        "print(y, type(y))    # Output: False <class 'bool'>\n",
        "\n",
        "# Boolean from comparisons\n",
        "print(10 > 5)        # True\n",
        "print(10 == 5)       # False\n",
        "print(10 < 5)        # False\n",
        "\n",
        "# Using Boolean in if statements\n",
        "if 10 > 3:\n",
        "    print(\"Condition is True!\")\n",
        "\n",
        "# bool() function - converts values to Boolean\n",
        "print(bool(15))          # True (non-zero number)\n",
        "print(bool(0))           # False\n",
        "print(bool(\"Hello\"))     # True (non-empty string)\n",
        "print(bool(\"\"))          # False (empty string)\n",
        "print(bool([]))          # False (empty list)\n",
        "print(bool([1, 2, 3]))   # True (non-empty list)\n",
        "\n",
        "# Logical operators\n",
        "a, b = True, False\n",
        "print(a and b)   # False\n",
        "print(a or b)    # True\n",
        "print(not a)     # False\n",
        "\n",
        "\n",
        "\n",
        "\n",
        "notes = '''\n",
        "Python Booleans — Key Notes\n",
        "\n",
        "• bool type has two values: True and False (case-sensitive).\n",
        "• bool is a subclass of int → True == 1, False == 0.\n",
        "\n",
        "Boolean from comparisons:\n",
        "10 > 5 → True\n",
        "10 == 5 → False\n",
        "10 < 5 → False\n",
        "\n",
        "bool() conversion rules:\n",
        "- Non-zero numbers → True\n",
        "- 0 → False\n",
        "- Non-empty strings/containers → True\n",
        "- Empty strings/containers → False\n",
        "\n",
        "Used in control flow:\n",
        "if condition:\n",
        "    executes when condition is True\n",
        "\n",
        "Logical operators:\n",
        "and → True if both True\n",
        "or  → True if at least one True\n",
        "not → inverts the Boolean value\n",
        "\n",
        "Note:\n",
        "Strings like \"False\" are still True (non-empty).\n",
        "'''\n"
      ],
      "metadata": {
        "colab": {
          "base_uri": "https://localhost:8080/"
        },
        "id": "5IV56lY2Eq8c",
        "outputId": "205d4320-65cc-4a50-89f2-1e51d13ff974"
      },
      "execution_count": 52,
      "outputs": [
        {
          "output_type": "stream",
          "name": "stdout",
          "text": [
            "True <class 'bool'>\n",
            "False <class 'bool'>\n",
            "True\n",
            "False\n",
            "False\n",
            "Condition is True!\n",
            "True\n",
            "False\n",
            "True\n",
            "False\n",
            "False\n",
            "True\n",
            "False\n",
            "True\n",
            "False\n"
          ]
        }
      ]
    },
    {
      "cell_type": "code",
      "source": [
        "# Extra boolean tests\n",
        "def func() :\n",
        "  return True\n",
        "\n",
        "if func():\n",
        "  print(\"YES!\")\n",
        "else:\n",
        "  print(\"NO!\")"
      ],
      "metadata": {
        "colab": {
          "base_uri": "https://localhost:8080/"
        },
        "id": "tSmAjgZ8C0Yd",
        "outputId": "24e60dcb-ed5c-402d-9f10-26b21d80a20b"
      },
      "execution_count": 53,
      "outputs": [
        {
          "output_type": "stream",
          "name": "stdout",
          "text": [
            "YES!\n"
          ]
        }
      ]
    },
    {
      "cell_type": "markdown",
      "source": [
        "## Booleans (All False forms)"
      ],
      "metadata": {
        "id": "MlIeHcqFWW88"
      }
    },
    {
      "cell_type": "code",
      "source": [
        "bool(False)\n",
        "bool(None)\n",
        "bool(0)\n",
        "bool(\"\")\n",
        "bool(())\n",
        "bool([])\n",
        "bool({})"
      ],
      "metadata": {
        "colab": {
          "base_uri": "https://localhost:8080/"
        },
        "id": "juKaeDGYWbH0",
        "outputId": "ebcd9930-fe02-4860-9179-77db5fe058cc"
      },
      "execution_count": 54,
      "outputs": [
        {
          "output_type": "execute_result",
          "data": {
            "text/plain": [
              "False"
            ]
          },
          "metadata": {},
          "execution_count": 54
        }
      ]
    },
    {
      "cell_type": "code",
      "source": [
        "# Object False (a bool)\n",
        "class myclass():\n",
        "  def __len__(self):\n",
        "    return 0\n",
        "\n",
        "myobj = myclass()\n",
        "print(bool(myobj))\n",
        "\n",
        "\n",
        "\n",
        "notes = '''\n",
        "Boolean Value of Custom Objects — Key Notes\n",
        "\n",
        "• When bool() is called on a custom object, Python checks:\n",
        "    1. __bool__() method (if defined)\n",
        "    2. Otherwise, __len__() method\n",
        "    3. If neither exists, the object is considered True\n",
        "\n",
        "• In this example:\n",
        "    class myclass():\n",
        "        def __len__(self):\n",
        "            return 0\n",
        "\n",
        "  → bool(myobj) returns False because __len__() == 0\n",
        "\n",
        "• If __len__() returned a non-zero value, bool(myobj) would be True.\n",
        "• Thus, objects with __len__() = 0 or __bool__() = False evaluate as False.\n",
        "'''\n"
      ],
      "metadata": {
        "colab": {
          "base_uri": "https://localhost:8080/"
        },
        "id": "m3ekD0ltWnM_",
        "outputId": "2743c37a-913c-4dfd-9361-9e7d1c1a0f4f"
      },
      "execution_count": 56,
      "outputs": [
        {
          "output_type": "stream",
          "name": "stdout",
          "text": [
            "False\n"
          ]
        }
      ]
    },
    {
      "cell_type": "markdown",
      "source": [
        "## Isinstance"
      ],
      "metadata": {
        "id": "CYBrl6oCW-yW"
      }
    },
    {
      "cell_type": "code",
      "source": [
        "# --- isinstance() in Python ---\n",
        "\n",
        "x = 10\n",
        "print(isinstance(x, int))     # True\n",
        "print(isinstance(x, float))   # False\n",
        "\n",
        "s = \"Hello\"\n",
        "print(isinstance(s, str))     # True\n",
        "\n",
        "# Checking against multiple types\n",
        "print(isinstance(x, (int, float)))  # True (x is int)\n",
        "\n",
        "\n",
        "\n",
        "notes = '''\n",
        "isinstance() — Key Notes\n",
        "\n",
        "• Syntax: isinstance(object, classinfo)\n",
        "• Returns True if the object is an instance of the given type or class.\n",
        "\n",
        "Examples:\n",
        "isinstance(10, int) → True\n",
        "isinstance(\"Hello\", str) → True\n",
        "isinstance(10, float) → False\n",
        "\n",
        "• classinfo can be a tuple of types — True if object matches any:\n",
        "  isinstance(10, (int, float)) → True\n",
        "\n",
        "• Safer and more flexible than using type() ==, especially with inheritance.\n",
        "'''\n"
      ],
      "metadata": {
        "colab": {
          "base_uri": "https://localhost:8080/"
        },
        "id": "yruhuFpND8kv",
        "outputId": "c7d6d0b0-ce2b-428a-f3ac-8c4798f83468"
      },
      "execution_count": 58,
      "outputs": [
        {
          "output_type": "stream",
          "name": "stdout",
          "text": [
            "True\n",
            "False\n",
            "True\n",
            "True\n"
          ]
        }
      ]
    },
    {
      "cell_type": "markdown",
      "source": [
        "## Operators (Arithmetic)"
      ],
      "metadata": {
        "id": "0emjX4XtFKgi"
      }
    },
    {
      "cell_type": "code",
      "source": [
        "# --- Arithmetic Operators ---\n",
        "a, b = 10, 3\n",
        "\n",
        "print(a + b)   # Addition → 13\n",
        "print(a - b)   # Subtraction → 7\n",
        "print(a * b)   # Multiplication → 30\n",
        "print(a / b)   # Division → 3.333...\n",
        "print(a // b)  # Floor Division → 3\n",
        "print(a % b)   # Modulus → 1\n",
        "print(a ** b)  # Exponentiation → 1000\n"
      ],
      "metadata": {
        "colab": {
          "base_uri": "https://localhost:8080/"
        },
        "id": "sbOmqkA0E9Tx",
        "outputId": "1474fd71-a133-4559-afe7-ab4252ee20eb"
      },
      "execution_count": null,
      "outputs": [
        {
          "output_type": "stream",
          "name": "stdout",
          "text": [
            "13\n",
            "7\n",
            "30\n",
            "3.3333333333333335\n",
            "3\n",
            "1\n",
            "1000\n"
          ]
        }
      ]
    },
    {
      "cell_type": "markdown",
      "source": [
        "## Operators (Assignment)"
      ],
      "metadata": {
        "id": "KsToM-YPXg8R"
      }
    },
    {
      "cell_type": "code",
      "source": [
        "# --- Assignment Operators ---\n",
        "x = 5\n",
        "x += 3    # x = x + 3\n",
        "print(x)  # 8\n",
        "\n",
        "x -= 2\n",
        "print(x)  # 6\n",
        "\n",
        "x *= 2\n",
        "print(x)  # 12\n",
        "\n",
        "x /= 3\n",
        "print(x)  # 4.0\n",
        "\n",
        "x %= 3\n",
        "print(x)  # 1.0\n",
        "\n",
        "x **= 2\n",
        "print(x)  # 1.0\n",
        "\n",
        "x //= 2\n",
        "print(x)  # 0.0\n"
      ],
      "metadata": {
        "colab": {
          "base_uri": "https://localhost:8080/"
        },
        "id": "koLcNTJmFNf-",
        "outputId": "ad965ad6-35c1-4370-88ed-f9ce2058f4c1"
      },
      "execution_count": 59,
      "outputs": [
        {
          "output_type": "stream",
          "name": "stdout",
          "text": [
            "8\n",
            "6\n",
            "12\n",
            "4.0\n",
            "1.0\n",
            "1.0\n",
            "0.0\n"
          ]
        }
      ]
    },
    {
      "cell_type": "markdown",
      "source": [
        "## Operators (Walrus)"
      ],
      "metadata": {
        "id": "-LMejxq-Xl7S"
      }
    },
    {
      "cell_type": "code",
      "source": [
        "n = 5\n",
        "if (x := n) > 3:\n",
        "    print(f\"x is {x}\")   # Output: x is 5\n",
        "\n",
        "\n",
        "\n",
        "\n",
        "notes = '''\n",
        "Walrus Operator (:=) — Key Notes\n",
        "\n",
        "• Introduced in Python 3.8, also called the “assignment expression.”\n",
        "• Syntax: variable := expression\n",
        "\n",
        "• It assigns a value to a variable *and* returns that value in the same expression.\n",
        "\n",
        "Example:\n",
        "n = 5\n",
        "if (x := n) > 3:\n",
        "    print(f\"x is {x}\")   # Output: x is 5\n",
        "\n",
        "• Equivalent to:\n",
        "x = n\n",
        "if x > 3:\n",
        "    print(f\"x is {x}\")\n",
        "\n",
        "• Useful for:\n",
        "  - Reducing repetition in conditions and loops.\n",
        "  - Assigning values while testing them.\n",
        "\n",
        "Example in loop:\n",
        "while (line := input(\"Enter: \")) != \"quit\":\n",
        "    print(\"You entered:\", line)\n",
        "\n",
        "• Must be enclosed in parentheses inside expressions (like in if conditions).\n",
        "'''\n"
      ],
      "metadata": {
        "colab": {
          "base_uri": "https://localhost:8080/"
        },
        "id": "5KGYhQAzGJfL",
        "outputId": "c95caa5a-507f-4b3d-df90-8c8c83aa2b45"
      },
      "execution_count": 61,
      "outputs": [
        {
          "output_type": "stream",
          "name": "stdout",
          "text": [
            "x is 5\n"
          ]
        }
      ]
    },
    {
      "cell_type": "markdown",
      "source": [
        "## Operators (Comparision)"
      ],
      "metadata": {
        "id": "OOAi_qhdYMvY"
      }
    },
    {
      "cell_type": "code",
      "source": [
        "# --- Comparison Operators ---\n",
        "a, b = 10, 20\n",
        "\n",
        "print(a == b)   # Equal → False\n",
        "print(a != b)   # Not equal → True\n",
        "print(a > b)    # Greater → False\n",
        "print(a < b)    # Less → True\n",
        "print(a >= b)   # Greater or equal → False\n",
        "print(a <= b)   # Less or equal → True\n"
      ],
      "metadata": {
        "colab": {
          "base_uri": "https://localhost:8080/"
        },
        "id": "AdI0OB2zFPdZ",
        "outputId": "f96cd6b3-f103-48d6-fad5-eb312ece831a"
      },
      "execution_count": null,
      "outputs": [
        {
          "output_type": "stream",
          "name": "stdout",
          "text": [
            "False\n",
            "True\n",
            "False\n",
            "True\n",
            "False\n",
            "True\n"
          ]
        }
      ]
    },
    {
      "cell_type": "markdown",
      "source": [
        "## Operators (Logical)"
      ],
      "metadata": {
        "id": "g-CKaNdGYU73"
      }
    },
    {
      "cell_type": "code",
      "source": [
        "# --- Logical Operators ---\n",
        "x, y = True, False\n",
        "\n",
        "print(x and y)  # False\n",
        "print(x or y)   # True\n",
        "print(not x)    # False\n"
      ],
      "metadata": {
        "colab": {
          "base_uri": "https://localhost:8080/"
        },
        "id": "bEKKpJaYFSBx",
        "outputId": "253e06c1-f075-4c02-de07-c699431c2f72"
      },
      "execution_count": null,
      "outputs": [
        {
          "output_type": "stream",
          "name": "stdout",
          "text": [
            "False\n",
            "True\n",
            "False\n"
          ]
        }
      ]
    },
    {
      "cell_type": "markdown",
      "source": [
        "## Operators (Identity)"
      ],
      "metadata": {
        "id": "ZVUPDapOYarU"
      }
    },
    {
      "cell_type": "code",
      "source": [
        "# --- Identity Operators ---\n",
        "a = [1, 2, 3]\n",
        "b = a\n",
        "c = [1, 2, 3]\n",
        "\n",
        "print(a is b)      # True (same object)\n",
        "print(a is c)      # False (same values, different objects)\n",
        "print(a is not c)  # True\n"
      ],
      "metadata": {
        "colab": {
          "base_uri": "https://localhost:8080/"
        },
        "id": "S9lSSq9EFT_r",
        "outputId": "3b71a846-a5bb-44cb-964f-b3c1cb64ff4d"
      },
      "execution_count": 62,
      "outputs": [
        {
          "output_type": "stream",
          "name": "stdout",
          "text": [
            "True\n",
            "False\n",
            "True\n"
          ]
        }
      ]
    },
    {
      "cell_type": "markdown",
      "source": [
        "## Operators (Membership)"
      ],
      "metadata": {
        "id": "nk5YXokFYgD0"
      }
    },
    {
      "cell_type": "code",
      "source": [
        "# --- Membership Operators ---\n",
        "fruits = [\"apple\", \"banana\", \"cherry\"]\n",
        "\n",
        "print(\"banana\" in fruits)     # True\n",
        "print(\"mango\" not in fruits)  # True\n"
      ],
      "metadata": {
        "colab": {
          "base_uri": "https://localhost:8080/"
        },
        "id": "j7z1r6Q2FWIQ",
        "outputId": "b7284b29-5345-413d-9507-01e941c9563c"
      },
      "execution_count": 64,
      "outputs": [
        {
          "output_type": "stream",
          "name": "stdout",
          "text": [
            "True\n",
            "True\n"
          ]
        }
      ]
    },
    {
      "cell_type": "markdown",
      "source": [
        "## Operators (Bitwise)"
      ],
      "metadata": {
        "id": "jcNC0sViYlDY"
      }
    },
    {
      "cell_type": "code",
      "source": [
        "# --- Bitwise Operators ---\n",
        "a, b = 5, 3   # (binary 0101, 0011)\n",
        "\n",
        "print(a & b)   # AND  → 1\n",
        "print(a | b)   # OR   → 7\n",
        "print(a ^ b)   # XOR  → 6\n",
        "print(~a)      # NOT  → -6\n",
        "print(a << 1)  # Left Shift → 10\n",
        "print(a >> 1)  # Right Shift → 2\n"
      ],
      "metadata": {
        "colab": {
          "base_uri": "https://localhost:8080/"
        },
        "id": "iZcCpeDTFXwQ",
        "outputId": "fe284ab9-0817-4c6b-fcec-692a5320693a"
      },
      "execution_count": 65,
      "outputs": [
        {
          "output_type": "stream",
          "name": "stdout",
          "text": [
            "1\n",
            "7\n",
            "6\n",
            "-6\n",
            "10\n",
            "2\n"
          ]
        }
      ]
    },
    {
      "cell_type": "markdown",
      "source": [
        "## Operator Presedence"
      ],
      "metadata": {
        "id": "aarNfyySYuBV"
      }
    },
    {
      "cell_type": "code",
      "source": [
        "# --- Operator Precedence ---\n",
        "# Highest to lowest: (), **, *, /, //, %, +, -, comparison, logical\n",
        "result = (5 + 2) * 3 ** 2\n",
        "print(result)   # 63 (because ** has higher precedence than + or *)\n"
      ],
      "metadata": {
        "colab": {
          "base_uri": "https://localhost:8080/"
        },
        "id": "gAMCi8rOFZXf",
        "outputId": "212b871b-44ad-41a3-9cf3-8b5112c7d74c"
      },
      "execution_count": 66,
      "outputs": [
        {
          "output_type": "stream",
          "name": "stdout",
          "text": [
            "63\n"
          ]
        }
      ]
    },
    {
      "cell_type": "markdown",
      "source": [
        "## Operators (Presedence Order)"
      ],
      "metadata": {
        "id": "WdxUn0M3Y8RD"
      }
    },
    {
      "cell_type": "code",
      "source": [
        "\n",
        "# Operator Precedence (Order of Evaluation) in Python\n",
        "\n",
        "# Highest → Lowest:\n",
        "\n",
        "# 1. **                → Exponentiation\n",
        "# 2. +x, -x, ~x        → Unary plus, minus, bitwise NOT\n",
        "# 3. *, /, //, %       → Multiplication, Division, Floor division, Modulus\n",
        "# 4. +, -              → Addition, Subtraction\n",
        "# 5. <<, >>            → Bitwise shift operators\n",
        "# 6. &                 → Bitwise AND\n",
        "# 7. ^                 → Bitwise XOR\n",
        "# 8. |                 → Bitwise OR\n",
        "# 9. <, <=, >, >=, ==, !=  → Comparisons\n",
        "# 10. not              → Logical NOT\n",
        "# 11. and              → Logical AND\n",
        "# 12. or               → Logical OR\n",
        "# 13. if ... else      → Conditional expression (ternary operator)\n",
        "# 14. lambda           → Lambda expression\n",
        "# 15. :=               → Walrus operator (assignment expression)\n",
        "# 16. =, +=, -=, etc.  → Assignment operators (lowest precedence)\n",
        "\n",
        "# Notes:\n",
        "# • Operators on the same level are evaluated left → right (except ** which is right → left).\n",
        "# • Use parentheses () to explicitly control evaluation order.\n",
        "# • Example:\n",
        "#     result = 2 + 3 * 4 ** 2\n",
        "#     → 4 ** 2 = 16 → 3 * 16 = 48 → 2 + 48 = 50\n"
      ],
      "metadata": {
        "id": "1bjPpo1KZChj"
      },
      "execution_count": 68,
      "outputs": []
    },
    {
      "cell_type": "markdown",
      "source": [
        "## Lists (Basic Knows)"
      ],
      "metadata": {
        "id": "IWj8VXcSZpj-"
      }
    },
    {
      "cell_type": "code",
      "source": [
        "notes='''\n",
        "Python Lists — Key Notes\n",
        "\n",
        "1. Ordered\n",
        "   • Lists maintain the order of insertion — each element has a fixed index.\n",
        "   • Adding new elements places them at the end (unless inserted elsewhere).\n",
        "   • Some methods (like sort() or reverse()) can change the order.\n",
        "\n",
        "2. Changeable (Mutable)\n",
        "   • Lists can be modified after creation.\n",
        "   • You can add, remove, or change elements using methods like append(), remove(), insert(), pop(), etc.\n",
        "\n",
        "3. Allow Duplicates\n",
        "   • Lists can contain duplicate items since elements are indexed individually.\n",
        "   • Example: [1, 2, 2, 3] is valid.\n",
        "\n",
        "Summary:\n",
        "• Ordered → yes\n",
        "• Changeable → yes\n",
        "• Duplicates → allowed\n",
        "• Indexed → yes (supports positive & negative indexing)\n",
        "'''\n"
      ],
      "metadata": {
        "id": "te0maCuGZtEs"
      },
      "execution_count": 70,
      "outputs": []
    },
    {
      "cell_type": "markdown",
      "source": [
        "## List (Length)"
      ],
      "metadata": {
        "id": "8sD2I9SLZza-"
      }
    },
    {
      "cell_type": "code",
      "source": [
        "thislist = [\"apple\", \"banana\", \"cherry\"]\n",
        "print(len(thislist))"
      ],
      "metadata": {
        "colab": {
          "base_uri": "https://localhost:8080/"
        },
        "id": "XvDc7crfZ2Yx",
        "outputId": "16ca6655-d46a-47c9-9393-fe7535875a02"
      },
      "execution_count": 71,
      "outputs": [
        {
          "output_type": "stream",
          "name": "stdout",
          "text": [
            "3\n"
          ]
        }
      ]
    },
    {
      "cell_type": "markdown",
      "source": [
        "## List (Constructor)"
      ],
      "metadata": {
        "id": "3I_WUvOFaPvs"
      }
    },
    {
      "cell_type": "code",
      "source": [
        "print(list(\"abc\")) #→ ['a', 'b', 'c']\n",
        "print(list((1, 2, 3))) #→ [1, 2, 3]\n",
        "print(list({10, 20, 30})) #→ [10, 20, 30] (unordered)\n",
        "\n",
        "\n",
        "notes = '''\n",
        "list() Constructor — Key Notes\n",
        "\n",
        "• The list() function creates a new list object.\n",
        "• Syntax: list(iterable)\n",
        "  → Converts any iterable (tuple, string, set, etc.) into a list.\n",
        "\n",
        "Example:\n",
        "thislist = list((\"apple\", \"banana\", \"cherry\"))\n",
        "print(thislist)   # ['apple', 'banana', 'cherry']\n",
        "\n",
        "• Note: double parentheses are required — inner () for tuple, outer for function call.\n",
        "• Works with:\n",
        "  list(\"abc\") → ['a', 'b', 'c']\n",
        "  list((1, 2, 3)) → [1, 2, 3]\n",
        "  list({10, 20, 30}) → [10, 20, 30] (unordered)\n",
        "\n",
        "• Useful for type conversion or when creating lists from other sequences.\n",
        "'''\n"
      ],
      "metadata": {
        "colab": {
          "base_uri": "https://localhost:8080/"
        },
        "id": "oHg0xMsAaSqq",
        "outputId": "e810a76a-ad5e-48f8-dede-a5e2b568b695"
      },
      "execution_count": 72,
      "outputs": [
        {
          "output_type": "stream",
          "name": "stdout",
          "text": [
            "['a', 'b', 'c']\n",
            "[1, 2, 3]\n",
            "[10, 20, 30]\n"
          ]
        }
      ]
    },
    {
      "cell_type": "markdown",
      "source": [
        "## List (One of the Python Collections)"
      ],
      "metadata": {
        "id": "fARzLM64a5fB"
      }
    },
    {
      "cell_type": "code",
      "source": [
        "notes = '''\n",
        "List is one of Python’s four main collection (data structure) types.\n",
        "\n",
        "Python Collection Types:\n",
        "\n",
        "1. List → ordered, changeable (mutable), allows duplicates.\n",
        "   Example: [\"apple\", \"banana\", \"cherry\"]\n",
        "\n",
        "2. Tuple → ordered, unchangeable (immutable), allows duplicates.\n",
        "   Example: (\"apple\", \"banana\", \"cherry\")\n",
        "\n",
        "3. Set → unordered, unindexed, no duplicates, unchangeable elements (but you can add/remove items).\n",
        "   Example: {\"apple\", \"banana\", \"cherry\"}\n",
        "\n",
        "4. Dictionary → ordered (since Python 3.7+), changeable, no duplicate keys.\n",
        "   Example: {\"name\": \"John\", \"age\": 25}\n",
        "\n",
        "Summary:\n",
        "• list and dict → mutable\n",
        "• tuple and set → immutable (set contents can change but not items inside)\n",
        "• Only list and tuple allow duplicate values.\n",
        "'''\n"
      ],
      "metadata": {
        "id": "gFDPkH2Ia_MY"
      },
      "execution_count": 73,
      "outputs": []
    },
    {
      "cell_type": "markdown",
      "source": [
        "## List (Access items)"
      ],
      "metadata": {
        "id": "xeLaZlMrja5I"
      }
    },
    {
      "cell_type": "code",
      "source": [
        "# --- Access List Items ---\n",
        "fruits = [\"apple\", \"banana\", \"cherry\", \"mango\"]\n",
        "\n",
        "print(fruits[0])      # Access first → apple\n",
        "print(fruits[-1])     # Access last → mango\n",
        "print(fruits[1:3])    # Slice (index 1 to 2) → ['banana', 'cherry']\n",
        "print(fruits[:2])     # From start to index 1 → ['apple', 'banana']\n",
        "print(fruits[2:])     # From index 2 to end → ['cherry', 'mango']\n"
      ],
      "metadata": {
        "id": "ub_tfAszFcZl",
        "colab": {
          "base_uri": "https://localhost:8080/"
        },
        "outputId": "52e4ed4c-6760-4656-a54f-e6e5a48a403f"
      },
      "execution_count": null,
      "outputs": [
        {
          "output_type": "stream",
          "name": "stdout",
          "text": [
            "apple\n",
            "mango\n",
            "['banana', 'cherry']\n",
            "['apple', 'banana']\n",
            "['cherry', 'mango']\n"
          ]
        }
      ]
    },
    {
      "cell_type": "code",
      "source": [
        "# To be attended\n",
        "\n",
        "mylist = [\"abc\", (1,2), [1,2,3], 4.56, True]\n",
        "mylist"
      ],
      "metadata": {
        "colab": {
          "base_uri": "https://localhost:8080/"
        },
        "id": "tBObuVnnLffr",
        "outputId": "37b73c2f-dfaf-4476-a5a4-e1fa43713afc"
      },
      "execution_count": null,
      "outputs": [
        {
          "output_type": "execute_result",
          "data": {
            "text/plain": [
              "['abc', (1, 2), [1, 2, 3], 4.56, True]"
            ]
          },
          "metadata": {},
          "execution_count": 75
        }
      ]
    },
    {
      "cell_type": "markdown",
      "source": [
        "## List (Changing items)"
      ],
      "metadata": {
        "id": "9KUgwdJ3jmTs"
      }
    },
    {
      "cell_type": "code",
      "source": [
        "# --- Change List Items ---\n",
        "fruits = [\"apple\", \"banana\", \"cherry\"]\n",
        "\n",
        "fruits[1] = \"kiwi\"          # Change single item\n",
        "print(fruits)               # ['apple', 'kiwi', 'cherry']\n",
        "\n",
        "fruits[0:2] = [\"grapes\", \"mango\"]  # Change a range\n",
        "print(fruits)               # ['grapes', 'mango', 'cherry']\n"
      ],
      "metadata": {
        "colab": {
          "base_uri": "https://localhost:8080/"
        },
        "id": "0SrpAMkzjfNB",
        "outputId": "1d20a56f-4cac-49b1-8a7d-5df39c2fea6f"
      },
      "execution_count": null,
      "outputs": [
        {
          "output_type": "stream",
          "name": "stdout",
          "text": [
            "['apple', 'kiwi', 'cherry']\n",
            "['grapes', 'mango', 'cherry']\n"
          ]
        }
      ]
    },
    {
      "cell_type": "markdown",
      "source": [
        "## List (Add items)"
      ],
      "metadata": {
        "id": "uaJjHQNdj2Bu"
      }
    },
    {
      "cell_type": "code",
      "source": [
        "# --- Add List Items ---\n",
        "fruits = [\"apple\", \"banana\"]\n",
        "\n",
        "fruits.append(\"cherry\")             # Add at end\n",
        "print(fruits)                       # ['apple', 'banana', 'cherry']\n",
        "\n",
        "fruits.insert(1, \"mango\")           # Insert at position 1\n",
        "print(fruits)                       # ['apple', 'mango', 'banana', 'cherry']\n",
        "\n",
        "fruits.extend([\"kiwi\", \"orange\"])   # Add multiple items\n",
        "print(fruits)                       # ['apple', 'mango', 'banana', 'cherry', 'kiwi', 'orange']\n"
      ],
      "metadata": {
        "colab": {
          "base_uri": "https://localhost:8080/"
        },
        "id": "yx-jR0knjtzo",
        "outputId": "0f844090-bab0-4121-cd47-f6c3ad7d4e0b"
      },
      "execution_count": null,
      "outputs": [
        {
          "output_type": "stream",
          "name": "stdout",
          "text": [
            "['apple', 'banana', 'cherry']\n",
            "['apple', 'mango', 'banana', 'cherry']\n",
            "['apple', 'mango', 'banana', 'cherry', 'kiwi', 'orange']\n"
          ]
        }
      ]
    },
    {
      "cell_type": "markdown",
      "source": [
        "## List (Remove items)"
      ],
      "metadata": {
        "id": "zNHeSBAxj_wl"
      }
    },
    {
      "cell_type": "code",
      "source": [
        "# --- Remove List Items ---\n",
        "fruits = [\"apple\", \"banana\", \"cherry\", \"mango\"]\n",
        "\n",
        "fruits.remove(\"banana\")  # Remove by value\n",
        "print(fruits)            # ['apple', 'cherry', 'mango']\n",
        "\n",
        "fruits.pop(1)            # Remove by index\n",
        "print(fruits)            # ['apple', 'mango']\n",
        "\n",
        "del fruits[0]            # Delete specific index\n",
        "print(fruits)            # ['mango']\n",
        "\n",
        "fruits.clear()           # Clear entire list\n",
        "print(fruits)            # []\n"
      ],
      "metadata": {
        "colab": {
          "base_uri": "https://localhost:8080/"
        },
        "id": "vdLhkFMUj6C5",
        "outputId": "dabf0868-6bfb-4d7f-9b56-09c879b79e3a"
      },
      "execution_count": null,
      "outputs": [
        {
          "output_type": "stream",
          "name": "stdout",
          "text": [
            "['apple', 'cherry', 'mango']\n",
            "['apple', 'mango']\n",
            "['mango']\n",
            "[]\n"
          ]
        }
      ]
    },
    {
      "cell_type": "markdown",
      "source": [
        "## List (Loop over a list)"
      ],
      "metadata": {
        "id": "mnZC9otSkPz_"
      }
    },
    {
      "cell_type": "code",
      "source": [
        "# --- Loop Lists ---\n",
        "fruits = [\"apple\", \"banana\", \"cherry\"]\n",
        "\n",
        "for f in fruits:\n",
        "    print(f)\n",
        "\n",
        "# Using index\n",
        "for i in range(len(fruits)):\n",
        "    print(f\"Index {i} → {fruits[i]}\")\n",
        "\n",
        "# Using while loop\n",
        "i = 0\n",
        "while i < len(fruits):\n",
        "    print(fruits[i])\n",
        "    i += 1\n"
      ],
      "metadata": {
        "colab": {
          "base_uri": "https://localhost:8080/"
        },
        "id": "rFUo26n4kDkH",
        "outputId": "e5c4457e-1e3b-4475-cd70-5b697ab97b98"
      },
      "execution_count": null,
      "outputs": [
        {
          "output_type": "stream",
          "name": "stdout",
          "text": [
            "apple\n",
            "banana\n",
            "cherry\n",
            "Index 0 → apple\n",
            "Index 1 → banana\n",
            "Index 2 → cherry\n",
            "apple\n",
            "banana\n",
            "cherry\n"
          ]
        }
      ]
    },
    {
      "cell_type": "markdown",
      "source": [
        "## List (Comprehension)"
      ],
      "metadata": {
        "id": "rRzGrjWRkXL8"
      }
    },
    {
      "cell_type": "code",
      "source": [
        "# --- List Comprehension ---\n",
        "fruits = [\"apple\", \"banana\", \"cherry\", \"kiwi\"]\n",
        "\n",
        "newlist = [f for f in fruits if \"a\" in f]   # Filter items containing 'a'\n",
        "print(newlist)  # ['apple', 'banana']\n",
        "\n",
        "squares = [x**2 for x in range(6)]          # Create list of squares\n",
        "print(squares)  # [0, 1, 4, 9, 16, 25]\n"
      ],
      "metadata": {
        "colab": {
          "base_uri": "https://localhost:8080/"
        },
        "id": "l_p_L08AkTGC",
        "outputId": "f60c6aa1-ab94-4a2b-a5c8-61a62f0cbd18"
      },
      "execution_count": null,
      "outputs": [
        {
          "output_type": "stream",
          "name": "stdout",
          "text": [
            "['apple', 'banana']\n",
            "[0, 1, 4, 9, 16, 25]\n"
          ]
        }
      ]
    },
    {
      "cell_type": "markdown",
      "source": [
        "## List (Sorting a List)"
      ],
      "metadata": {
        "id": "Yhd3oh8JlUeV"
      }
    },
    {
      "cell_type": "code",
      "source": [
        "# --- Sort Lists ---\n",
        "nums = [5, 2, 9, 1, 5]\n",
        "nums.sort()\n",
        "print(nums)       # [1, 2, 5, 5, 9]\n",
        "\n",
        "nums.sort(reverse=True)\n",
        "print(nums)       # [9, 5, 5, 2, 1]\n",
        "\n",
        "fruits = [\"banana\", \"apple\", \"cherry\"]\n",
        "fruits.sort()\n",
        "print(fruits)     # ['apple', 'banana', 'cherry']\n"
      ],
      "metadata": {
        "colab": {
          "base_uri": "https://localhost:8080/"
        },
        "id": "MEGLt9-kk6DJ",
        "outputId": "ce6c1006-cd80-454f-d702-a2323824330f"
      },
      "execution_count": null,
      "outputs": [
        {
          "output_type": "stream",
          "name": "stdout",
          "text": [
            "[1, 2, 5, 5, 9]\n",
            "[9, 5, 5, 2, 1]\n",
            "['apple', 'banana', 'cherry']\n"
          ]
        }
      ]
    },
    {
      "cell_type": "code",
      "source": [
        "# Customised Sort\n",
        "\n",
        "def myfunc(n):\n",
        "  return abs(n - 50)\n",
        "\n",
        "thislist = [100, 50, 65, 82, 23]\n",
        "thislist.sort(key = myfunc)\n",
        "print(thislist)\n",
        "\n",
        "\n",
        "\n",
        "important_notes_on_customised_sort = '''\n",
        "Custom Sort with key Parameter — Key Notes\n",
        "\n",
        "• The sort() method can take a custom key function for sorting logic.\n",
        "• Syntax: list.sort(key = function)\n",
        "\n",
        "Example:\n",
        "def myfunc(n):\n",
        "    return abs(n - 50)\n",
        "\n",
        "thislist = [100, 50, 65, 82, 23]\n",
        "thislist.sort(key = myfunc)\n",
        "→ Sorts based on distance from 50\n",
        "Output: [50, 65, 23, 82, 100]\n",
        "\n",
        "Explanation:\n",
        "• Each element is transformed by key function (abs(n - 50)) before comparison.\n",
        "• Items closer to 50 appear earlier.\n",
        "• The sort() method modifies the list in place (returns None).\n",
        "\n",
        "Tip:\n",
        "Use sorted(iterable, key=function) if you want a new sorted list without changing the original.\n",
        "'''\n"
      ],
      "metadata": {
        "colab": {
          "base_uri": "https://localhost:8080/"
        },
        "id": "8n1y2hkQoNMm",
        "outputId": "d117c3b5-52da-46ad-cc91-c5e4ae63a156"
      },
      "execution_count": 74,
      "outputs": [
        {
          "output_type": "stream",
          "name": "stdout",
          "text": [
            "[50, 65, 23, 82, 100]\n"
          ]
        }
      ]
    },
    {
      "cell_type": "markdown",
      "source": [
        "## List (Copying a List)"
      ],
      "metadata": {
        "id": "G1miA29jlp-v"
      }
    },
    {
      "cell_type": "code",
      "source": [
        "# --- Copy Lists ---\n",
        "fruits = [\"apple\", \"banana\", \"cherry\"]\n",
        "\n",
        "copy1 = fruits.copy()       # Method 1\n",
        "copy2 = list(fruits)        # Method 2\n",
        "\n",
        "print(copy1)\n",
        "print(copy2)\n",
        "\n",
        "\n",
        "\n",
        "importance_of_copy = '''\n",
        "Copying Lists — Why It's Useful\n",
        "\n",
        "• Lists are mutable and assigned by reference.\n",
        "  → If you do: copy_ref = fruits, both names refer to the same list in memory.\n",
        "  → Changing one affects the other.\n",
        "\n",
        "Example (problem without copy):\n",
        "fruits = [\"apple\", \"banana\"]\n",
        "copy_ref = fruits\n",
        "copy_ref.append(\"cherry\")\n",
        "print(fruits)  # ['apple', 'banana', 'cherry'] — original also changed!\n",
        "\n",
        "• Using copy() or list():\n",
        "  copy_list = fruits.copy()\n",
        "  OR\n",
        "  copy_list = list(fruits)\n",
        "\n",
        "Now copy_list is a *new* list with the same contents — changes to it don’t affect the original.\n",
        "\n",
        "Useful when:\n",
        "- You want to preserve the original list before modifying data.\n",
        "- You need to process data independently (e.g., sorting, filtering).\n",
        "- Avoid unintended side effects from shared references.\n",
        "\n",
        "Note:\n",
        "copy() makes a *shallow copy* (only top-level elements).\n",
        "For nested lists, use copy.deepcopy() from the copy module.\n",
        "'''\n",
        "\n"
      ],
      "metadata": {
        "colab": {
          "base_uri": "https://localhost:8080/"
        },
        "id": "S7U6TaRqlfsK",
        "outputId": "3e4e1a74-787a-47aa-d2ee-204d8b019ce7"
      },
      "execution_count": 75,
      "outputs": [
        {
          "output_type": "stream",
          "name": "stdout",
          "text": [
            "['apple', 'banana', 'cherry']\n",
            "['apple', 'banana', 'cherry']\n"
          ]
        }
      ]
    },
    {
      "cell_type": "markdown",
      "source": [
        "## List (Joining Lists)"
      ],
      "metadata": {
        "id": "4BhL_TOcmYXB"
      }
    },
    {
      "cell_type": "code",
      "source": [
        "# --- Join Lists ---\n",
        "list1 = [\"a\", \"b\", \"c\"]\n",
        "list2 = [1, 2, 3]\n",
        "\n",
        "joined = list1 + list2\n",
        "print(joined)  # ['a', 'b', 'c', 1, 2, 3]\n",
        "\n",
        "list1.extend(list2)\n",
        "print(list1)   # ['a', 'b', 'c', 1, 2, 3]\n"
      ],
      "metadata": {
        "colab": {
          "base_uri": "https://localhost:8080/"
        },
        "id": "MVu6-BSylunr",
        "outputId": "b9e1c4e2-6fdb-403b-fa20-cbec9d2fe7c0"
      },
      "execution_count": null,
      "outputs": [
        {
          "output_type": "stream",
          "name": "stdout",
          "text": [
            "['a', 'b', 'c', 1, 2, 3]\n",
            "['a', 'b', 'c', 1, 2, 3]\n"
          ]
        }
      ]
    },
    {
      "cell_type": "code",
      "source": [
        "# More on joining\n",
        "list1 = [\"a\", \"b\", \"c\"]\n",
        "list2 = [1, 2, 3]\n",
        "\n",
        "type(\" \".join(list1))\n"
      ],
      "metadata": {
        "colab": {
          "base_uri": "https://localhost:8080/"
        },
        "id": "uElRULBzswgW",
        "outputId": "79e80f44-6b49-4b3b-f0ed-0e1aa914fc9f"
      },
      "execution_count": null,
      "outputs": [
        {
          "output_type": "execute_result",
          "data": {
            "text/plain": [
              "str"
            ]
          },
          "metadata": {},
          "execution_count": 86
        }
      ]
    },
    {
      "cell_type": "markdown",
      "source": [
        "## List (Common List Methods)"
      ],
      "metadata": {
        "id": "LGMEx19Hmszm"
      }
    },
    {
      "cell_type": "code",
      "source": [
        "# --- Common List Methods ---\n",
        "fruits = [\"apple\", \"banana\", \"cherry\", \"apple\"]\n",
        "\n",
        "print(len(fruits))        # Count items → 4\n",
        "print(fruits.count(\"apple\"))  # Count occurrences → 2\n",
        "print(fruits.index(\"banana\")) # Find index → 1\n",
        "\n",
        "fruits.reverse()          # Reverse order\n",
        "print(fruits)\n",
        "\n",
        "fruits.append(\"mango\")    # Add new item\n",
        "fruits.remove(\"cherry\")   # Remove item\n",
        "print(fruits)\n"
      ],
      "metadata": {
        "colab": {
          "base_uri": "https://localhost:8080/"
        },
        "id": "qv3cuKUBmdc-",
        "outputId": "d40703cb-1758-4ef3-e3fd-1c8bb04a8917"
      },
      "execution_count": null,
      "outputs": [
        {
          "output_type": "stream",
          "name": "stdout",
          "text": [
            "4\n",
            "2\n",
            "1\n",
            "['apple', 'cherry', 'banana', 'apple']\n",
            "['apple', 'banana', 'apple', 'mango']\n"
          ]
        }
      ]
    },
    {
      "cell_type": "markdown",
      "source": [
        "## **Tuples (Creating them)**"
      ],
      "metadata": {
        "id": "mKa99aCrwDet"
      }
    },
    {
      "cell_type": "code",
      "source": [
        "# --- Creating Tuples ---\n",
        "t1 = (\"apple\", \"banana\", \"cherry\")\n",
        "t2 = (1, 2, 3, 4)\n",
        "t3 = (True, False, True)\n",
        "t4 = (\"apple\", 10, True)  # Mixed types\n",
        "t5 = (\"one\",)            # Single-item tuple must have a comma\n",
        "\n",
        "print(t1)\n",
        "print(type(t5))          # <class 'tuple'>\n"
      ],
      "metadata": {
        "colab": {
          "base_uri": "https://localhost:8080/"
        },
        "id": "f7lp2GTxmxvd",
        "outputId": "939193d5-d501-409b-a38b-c40aa56ca7a3"
      },
      "execution_count": 76,
      "outputs": [
        {
          "output_type": "stream",
          "name": "stdout",
          "text": [
            "('apple', 'banana', 'cherry')\n",
            "<class 'tuple'>\n"
          ]
        }
      ]
    },
    {
      "cell_type": "markdown",
      "source": [
        "## Tuples (Features)"
      ],
      "metadata": {
        "id": "lRJzbsG7cNaG"
      }
    },
    {
      "cell_type": "markdown",
      "source": [
        "| Feature                      | Meaning                              | Example           |\n",
        "| ---------------------------- | ------------------------------------ | ----------------- |\n",
        "| **Ordered**                  | Items keep their fixed positions     | `(\"a\", \"b\", \"c\")` |\n",
        "| **Unchangeable / Immutable** | Cannot modify after creation         | No `t[0] = \"x\"` ❌ |\n",
        "| **Allow Duplicates**         | Same value can appear multiple times | `(\"a\", \"a\", \"b\")` |\n",
        "| **Indexed**                  | Items accessed by index              | `t[0]`, `t[-1]`   |\n"
      ],
      "metadata": {
        "id": "k1KHKy8RwaQv"
      }
    },
    {
      "cell_type": "markdown",
      "source": [
        "## Tuples (Access Tuple Items)"
      ],
      "metadata": {
        "id": "s_TIn3Sbwo5b"
      }
    },
    {
      "cell_type": "code",
      "source": [
        "# --- Accessing Tuple Items ---\n",
        "fruits = (\"apple\", \"banana\", \"cherry\", \"mango\")\n",
        "\n",
        "print(fruits[0])     # 'apple'\n",
        "print(fruits[-1])    # 'mango'\n",
        "print(fruits[1:3])   # ('banana', 'cherry')\n"
      ],
      "metadata": {
        "colab": {
          "base_uri": "https://localhost:8080/"
        },
        "id": "1iYNRdtDwH-7",
        "outputId": "5094b217-be5a-4f47-e9cf-8281f2679ce6"
      },
      "execution_count": 77,
      "outputs": [
        {
          "output_type": "stream",
          "name": "stdout",
          "text": [
            "apple\n",
            "mango\n",
            "('banana', 'cherry')\n"
          ]
        }
      ]
    },
    {
      "cell_type": "markdown",
      "source": [
        "## Tuple (Immutable)"
      ],
      "metadata": {
        "id": "vMGO9UHZw0B6"
      }
    },
    {
      "cell_type": "code",
      "source": [
        "# --- Tuples are Immutable ---\n",
        "t = (\"a\", \"b\", \"c\")\n",
        "\n",
        "# t[0] = \"z\"  # ❌ Error: Cannot change tuple items\n",
        "\n",
        "print(t)\n"
      ],
      "metadata": {
        "colab": {
          "base_uri": "https://localhost:8080/"
        },
        "id": "QDhWj4TRwwzC",
        "outputId": "aec352f0-fbeb-47a3-a1dd-169eb2af9e6f"
      },
      "execution_count": 78,
      "outputs": [
        {
          "output_type": "stream",
          "name": "stdout",
          "text": [
            "('a', 'b', 'c')\n"
          ]
        }
      ]
    },
    {
      "cell_type": "markdown",
      "source": [
        "## Tuple (Forcibly changing Tuple)"
      ],
      "metadata": {
        "id": "RMykSNz8xKlI"
      }
    },
    {
      "cell_type": "code",
      "source": [
        "# --- Modify Tuple Indirectly ---\n",
        "t = (\"apple\", \"banana\", \"cherry\")\n",
        "\n",
        "temp_list = list(t)     # Convert to list\n",
        "temp_list[1] = \"kiwi\"\n",
        "t = tuple(temp_list)    # Convert back to tuple\n",
        "\n",
        "print(t)    # ('apple', 'kiwi', 'cherry')\n",
        "\n",
        "\n",
        "\n",
        "\n",
        "force_tuple_change = '''\n",
        "Modifying a Tuple Indirectly — Key Notes\n",
        "\n",
        "• Tuples are immutable → their elements cannot be changed directly.\n",
        "• Workaround: convert the tuple to a list, modify it, then convert back.\n",
        "\n",
        "Example:\n",
        "t = (\"apple\", \"banana\", \"cherry\")\n",
        "temp = list(t)\n",
        "temp[1] = \"kiwi\"\n",
        "t = tuple(temp)\n",
        "→ ('apple', 'kiwi', 'cherry')\n",
        "\n",
        "• This process creates a *new tuple* (the original remains unchanged).\n",
        "• Useful when small updates are needed but immutability is required afterward.\n",
        "\n",
        "Note:\n",
        "This method is only practical for minor edits — if frequent changes are needed, use a list instead.\n",
        "'''\n"
      ],
      "metadata": {
        "colab": {
          "base_uri": "https://localhost:8080/"
        },
        "id": "USlsel5mxFVl",
        "outputId": "94c20b4e-0dde-4ca6-fe12-b2a804553dce"
      },
      "execution_count": 79,
      "outputs": [
        {
          "output_type": "stream",
          "name": "stdout",
          "text": [
            "('apple', 'kiwi', 'cherry')\n"
          ]
        }
      ]
    },
    {
      "cell_type": "markdown",
      "source": [
        "## Tuple (Deleting Tuple Items (Not Possible))"
      ],
      "metadata": {
        "id": "mtvoUelXxhyQ"
      }
    },
    {
      "cell_type": "code",
      "source": [
        "# --- Remove Tuple Items ---\n",
        "t = (\"apple\", \"banana\", \"cherry\")\n",
        "# No direct remove allowed; delete whole tuple\n",
        "del t\n",
        "# print(t)  # ❌ Error: t no longer exists\n"
      ],
      "metadata": {
        "id": "EKD3pQMrxPDn"
      },
      "execution_count": 80,
      "outputs": []
    },
    {
      "cell_type": "markdown",
      "source": [
        "## Tuple (Unpacking Tuples)"
      ],
      "metadata": {
        "id": "7gmztRwixrap"
      }
    },
    {
      "cell_type": "code",
      "source": [
        "# --- Tuple Unpacking ---\n",
        "fruits = (\"apple\", \"banana\", \"cherry\")\n",
        "\n",
        "(a, b, c) = fruits\n",
        "print(a, b, c)\n",
        "\n",
        "# Extended unpacking\n",
        "numbers = (1, 2, 3, 4, 5)\n",
        "x, *y = numbers\n",
        "print(x)  # 1\n",
        "print(y)  # [2, 3, 4, 5]\n"
      ],
      "metadata": {
        "colab": {
          "base_uri": "https://localhost:8080/"
        },
        "id": "0G1PCQNsxm0n",
        "outputId": "e879d11b-4c78-4a6a-d070-f6d0f67591f4"
      },
      "execution_count": null,
      "outputs": [
        {
          "output_type": "stream",
          "name": "stdout",
          "text": [
            "apple banana cherry\n",
            "1\n",
            "[2, 3, 4, 5]\n"
          ]
        }
      ]
    },
    {
      "cell_type": "code",
      "source": [
        "# More exploring in Unpacking\n",
        "\n",
        "fruits = (\"apple\", \"banana\", \"cherry\", \"strawberry\", \"raspberry\")\n",
        "\n",
        "# (green, yellow, *red) = fruits\n",
        "# (*green, yellow, red) = fruits\n",
        "*green, yellow, red = fruits\n",
        "2\n",
        "print(green)\n",
        "print(yellow)\n",
        "print(red)"
      ],
      "metadata": {
        "colab": {
          "base_uri": "https://localhost:8080/"
        },
        "id": "WqLUjs59xwsV",
        "outputId": "eb0e52d6-fd41-4480-b8f4-a732b8d0d50f"
      },
      "execution_count": null,
      "outputs": [
        {
          "output_type": "stream",
          "name": "stdout",
          "text": [
            "['apple', 'banana', 'cherry']\n",
            "strawberry\n",
            "raspberry\n"
          ]
        }
      ]
    },
    {
      "cell_type": "markdown",
      "source": [
        "## Set (Create)"
      ],
      "metadata": {
        "id": "UwMQZa6p-qxV"
      }
    },
    {
      "cell_type": "code",
      "source": [
        "# --- Creating Sets ---\n",
        "fruits = {\"apple\", \"banana\", \"cherry\"}\n",
        "print(fruits)\n",
        "\n",
        "# Duplicates are removed\n",
        "s = {\"a\", \"b\", \"a\", \"c\"}\n",
        "print(s)   # {'a', 'b', 'c'}\n",
        "\n",
        "# Creating empty set\n",
        "empty = set()\n",
        "print(type(empty))   # <class 'set'>\n"
      ],
      "metadata": {
        "colab": {
          "base_uri": "https://localhost:8080/"
        },
        "id": "LgnkwgKDyiWz",
        "outputId": "21728427-f307-43c5-d8b5-82995a8a1796"
      },
      "execution_count": null,
      "outputs": [
        {
          "output_type": "stream",
          "name": "stdout",
          "text": [
            "{'apple', 'banana', 'cherry'}\n",
            "{'a', 'b', 'c'}\n",
            "<class 'set'>\n"
          ]
        }
      ]
    },
    {
      "cell_type": "markdown",
      "source": [
        "## Set (Access)"
      ],
      "metadata": {
        "id": "MHxmNYzm-z6a"
      }
    },
    {
      "cell_type": "code",
      "source": [
        "# --- Access Items using Loop ---\n",
        "fruits = {\"apple\", \"banana\", \"cherry\"}\n",
        "\n",
        "for x in fruits:\n",
        "    print(x)\n"
      ],
      "metadata": {
        "colab": {
          "base_uri": "https://localhost:8080/"
        },
        "id": "REx5nInY-vcb",
        "outputId": "333ab270-71d3-4eff-c75b-623bd4ee4da3"
      },
      "execution_count": 81,
      "outputs": [
        {
          "output_type": "stream",
          "name": "stdout",
          "text": [
            "cherry\n",
            "banana\n",
            "apple\n"
          ]
        }
      ]
    },
    {
      "cell_type": "markdown",
      "source": [
        "## Set (Add items to Set)"
      ],
      "metadata": {
        "id": "aZ5pfgeX-_Sz"
      }
    },
    {
      "cell_type": "code",
      "source": [
        "# --- Add Items ---\n",
        "fruits = {\"apple\", \"banana\"}\n",
        "\n",
        "fruits.add(\"cherry\")        # Add one item\n",
        "print(fruits)\n",
        "\n",
        "fruits.update([\"mango\", \"orange\"])  # Add multiple items\n",
        "print(fruits)\n"
      ],
      "metadata": {
        "colab": {
          "base_uri": "https://localhost:8080/"
        },
        "id": "T_6Ifql_-4_G",
        "outputId": "b291833a-dfb1-4068-decd-b47c508d4b44"
      },
      "execution_count": null,
      "outputs": [
        {
          "output_type": "stream",
          "name": "stdout",
          "text": [
            "{'apple', 'banana', 'cherry'}\n",
            "{'cherry', 'apple', 'mango', 'banana', 'orange'}\n"
          ]
        }
      ]
    },
    {
      "cell_type": "markdown",
      "source": [
        "## Set (Remove Items from Set)"
      ],
      "metadata": {
        "id": "gejNL8_A_I7c"
      }
    },
    {
      "cell_type": "code",
      "source": [
        "# --- Remove Items ---\n",
        "fruits = {\"apple\", \"banana\", \"cherry\"}\n",
        "\n",
        "fruits.remove(\"banana\")  # Error if item not found\n",
        "print(fruits)\n",
        "\n",
        "fruits.discard(\"kiwi\")   # No error if item not found\n",
        "print(fruits)\n",
        "\n",
        "fruits.pop()             # Removes a random item\n",
        "print(fruits)\n",
        "\n",
        "fruits.clear()           # Empty the set\n",
        "print(fruits)\n"
      ],
      "metadata": {
        "colab": {
          "base_uri": "https://localhost:8080/"
        },
        "id": "KZsWnorn_CKA",
        "outputId": "d0c40683-9287-4c13-d5db-a57937eae0b8"
      },
      "execution_count": null,
      "outputs": [
        {
          "output_type": "stream",
          "name": "stdout",
          "text": [
            "{'apple', 'cherry'}\n",
            "{'apple', 'cherry'}\n",
            "{'cherry'}\n",
            "set()\n"
          ]
        }
      ]
    },
    {
      "cell_type": "markdown",
      "source": [
        "## Set (Join Sets)"
      ],
      "metadata": {
        "id": "AXESB1I__Qey"
      }
    },
    {
      "cell_type": "code",
      "source": [
        "# --- Join Sets ---\n",
        "set1 = {\"a\", \"b\", \"c\"}\n",
        "set2 = {1, 2, 3}\n",
        "\n",
        "print(set1 | set2)            # Union\n",
        "print(set1.union(set2))       # Same result\n"
      ],
      "metadata": {
        "colab": {
          "base_uri": "https://localhost:8080/"
        },
        "id": "l_mO1umz_M8T",
        "outputId": "82f0842c-df49-48b2-c8fc-5334a7b003ec"
      },
      "execution_count": 82,
      "outputs": [
        {
          "output_type": "stream",
          "name": "stdout",
          "text": [
            "{'a', 1, 2, 3, 'b', 'c'}\n",
            "{'a', 1, 2, 3, 'b', 'c'}\n"
          ]
        }
      ]
    },
    {
      "cell_type": "markdown",
      "source": [
        "## Set (Operations)"
      ],
      "metadata": {
        "id": "v8Hd1FI__aDi"
      }
    },
    {
      "cell_type": "code",
      "source": [
        "# --- Set Operations ---\n",
        "a = {1, 2, 3, 4}\n",
        "b = {3, 4, 5, 6}\n",
        "\n",
        "print(a.intersection(b))   # {3, 4}\n",
        "print(a.difference(b))     # {1, 2}\n",
        "print(a.symmetric_difference(b))  # {1, 2, 5, 6}\n"
      ],
      "metadata": {
        "colab": {
          "base_uri": "https://localhost:8080/"
        },
        "id": "05XPKQto_SsX",
        "outputId": "d1add4fc-83e3-469d-8fc7-0ee1464f8ea8"
      },
      "execution_count": null,
      "outputs": [
        {
          "output_type": "stream",
          "name": "stdout",
          "text": [
            "{3, 4}\n",
            "{1, 2}\n",
            "{1, 2, 5, 6}\n"
          ]
        }
      ]
    },
    {
      "cell_type": "markdown",
      "source": [
        "## Set (Membership Test)"
      ],
      "metadata": {
        "id": "tS51Sg3s_fiU"
      }
    },
    {
      "cell_type": "code",
      "source": [
        "# --- Membership ---\n",
        "fruits = {\"apple\", \"banana\"}\n",
        "print(\"apple\" in fruits)   # True\n",
        "print(\"mango\" not in fruits)  # True\n"
      ],
      "metadata": {
        "colab": {
          "base_uri": "https://localhost:8080/"
        },
        "id": "9HN2nFdM_cpf",
        "outputId": "4ab51e19-2a95-48d5-fead-0c6c917be0f8"
      },
      "execution_count": null,
      "outputs": [
        {
          "output_type": "stream",
          "name": "stdout",
          "text": [
            "True\n",
            "True\n"
          ]
        }
      ]
    },
    {
      "cell_type": "markdown",
      "source": [
        "## **Dictionary (Create)**"
      ],
      "metadata": {
        "id": "YxhEwtPDEs3I"
      }
    },
    {
      "cell_type": "code",
      "source": [
        "# --- Creating a Dictionary ---\n",
        "\n",
        "# Method 1: Using curly braces\n",
        "mydict = {\n",
        "    \"name\": \"Alice\",\n",
        "    \"age\": 25,\n",
        "    \"city\": \"Delhi\"\n",
        "}\n",
        "\n",
        "# Method 2: Using dict() constructor\n",
        "mydict2 = dict(name=\"Bob\", age=30, city=\"Mumbai\")\n",
        "\n",
        "print(mydict)\n",
        "print(mydict2)\n"
      ],
      "metadata": {
        "colab": {
          "base_uri": "https://localhost:8080/"
        },
        "id": "Ng6MqyondzZm",
        "outputId": "b89845ee-5300-4eaf-fee6-088addb2a49e"
      },
      "execution_count": 83,
      "outputs": [
        {
          "output_type": "stream",
          "name": "stdout",
          "text": [
            "{'name': 'Alice', 'age': 25, 'city': 'Delhi'}\n",
            "{'name': 'Bob', 'age': 30, 'city': 'Mumbai'}\n"
          ]
        }
      ]
    },
    {
      "cell_type": "markdown",
      "source": [
        "## Dict (Access)"
      ],
      "metadata": {
        "id": "dsbhFeRFE1IR"
      }
    },
    {
      "cell_type": "code",
      "source": [
        "# --- Access Items ---\n",
        "student = {\"name\": \"John\", \"age\": 20, \"course\": \"Python\"}\n",
        "\n",
        "print(student[\"name\"])       # 'John'\n",
        "print(student.get(\"age\"))    # 20\n",
        "\n",
        "print(student.keys())        # dict_keys(['name', 'age', 'course'])\n",
        "print(student.values())      # dict_values(['John', 20, 'Python'])\n",
        "print(student.items())       # dict_items([...])\n"
      ],
      "metadata": {
        "colab": {
          "base_uri": "https://localhost:8080/"
        },
        "id": "ZamLFbxuEyPQ",
        "outputId": "38297723-e669-48a5-9c90-523e708b9fd6"
      },
      "execution_count": 84,
      "outputs": [
        {
          "output_type": "stream",
          "name": "stdout",
          "text": [
            "John\n",
            "20\n",
            "dict_keys(['name', 'age', 'course'])\n",
            "dict_values(['John', 20, 'Python'])\n",
            "dict_items([('name', 'John'), ('age', 20), ('course', 'Python')])\n"
          ]
        }
      ]
    },
    {
      "cell_type": "markdown",
      "source": [
        "## Dict (Change/Update)"
      ],
      "metadata": {
        "id": "YlBu5gM_E_np"
      }
    },
    {
      "cell_type": "code",
      "source": [
        "# --- Update Items ---\n",
        "student = {\"name\": \"John\", \"age\": 20, \"course\": \"Python\"}\n",
        "\n",
        "student[\"age\"] = 21          # Modify value\n",
        "student.update({\"course\": \"AI\"})  # Update value\n",
        "\n",
        "print(student)"
      ],
      "metadata": {
        "colab": {
          "base_uri": "https://localhost:8080/"
        },
        "id": "f1mITWUbE3at",
        "outputId": "b5fbf4e4-98cb-4f97-a41b-ec8bbe1ba6f8"
      },
      "execution_count": 85,
      "outputs": [
        {
          "output_type": "stream",
          "name": "stdout",
          "text": [
            "{'name': 'John', 'age': 21, 'course': 'AI'}\n"
          ]
        }
      ]
    },
    {
      "cell_type": "markdown",
      "source": [
        "## Dict (Add items)"
      ],
      "metadata": {
        "id": "F41FsWQ3FH6W"
      }
    },
    {
      "cell_type": "code",
      "source": [
        "# --- Add Items ---\n",
        "student = {\"name\": \"John\"}\n",
        "\n",
        "student[\"age\"] = 20\n",
        "student.update({\"city\": \"Delhi\"})\n",
        "\n",
        "print(student)\n"
      ],
      "metadata": {
        "colab": {
          "base_uri": "https://localhost:8080/"
        },
        "id": "VWOH-OBzFB8l",
        "outputId": "9000858d-f8d4-414a-9cef-69534477ed5c"
      },
      "execution_count": null,
      "outputs": [
        {
          "output_type": "stream",
          "name": "stdout",
          "text": [
            "{'name': 'John', 'age': 20, 'city': 'Delhi'}\n"
          ]
        }
      ]
    },
    {
      "cell_type": "markdown",
      "source": [
        "## Dict (Remove items)"
      ],
      "metadata": {
        "id": "YbSpabxuFSSk"
      }
    },
    {
      "cell_type": "code",
      "source": [
        "# --- Remove Items ---\n",
        "student = {\"name\": \"John\", \"age\": 20, \"city\": \"Delhi\"}\n",
        "\n",
        "student.pop(\"age\")\n",
        "print(student)               # 'age' removed\n",
        "\n",
        "student.popitem()            # Removes last item\n",
        "print(student)\n",
        "\n",
        "del student[\"name\"]          # Remove specific key\n",
        "print(student)\n",
        "\n",
        "student.clear()              # Clear dictionary\n",
        "print(student)               # {}\n"
      ],
      "metadata": {
        "colab": {
          "base_uri": "https://localhost:8080/"
        },
        "id": "r-BllwG6FKUV",
        "outputId": "c1e94844-01cb-44c8-be07-941981c4fca8"
      },
      "execution_count": null,
      "outputs": [
        {
          "output_type": "stream",
          "name": "stdout",
          "text": [
            "{'name': 'John', 'city': 'Delhi'}\n",
            "{'name': 'John'}\n",
            "{}\n",
            "{}\n"
          ]
        }
      ]
    },
    {
      "cell_type": "markdown",
      "source": [
        "## Dict (Looping over)"
      ],
      "metadata": {
        "id": "gwmQtacFFeU_"
      }
    },
    {
      "cell_type": "code",
      "source": [
        "# --- Loop Dictionary ---\n",
        "student = {\"name\": \"John\", \"age\": 20}\n",
        "\n",
        "for key in student:\n",
        "    print(key)      # Keys\n",
        "\n",
        "for value in student.values():\n",
        "    print(value)\n",
        "\n",
        "for key, value in student.items():\n",
        "    print(key, \":\", value)\n"
      ],
      "metadata": {
        "colab": {
          "base_uri": "https://localhost:8080/"
        },
        "id": "LBOHb1BUFXPL",
        "outputId": "7a72126e-96c8-4fb3-fc83-b7811550e49e"
      },
      "execution_count": null,
      "outputs": [
        {
          "output_type": "stream",
          "name": "stdout",
          "text": [
            "name\n",
            "age\n",
            "John\n",
            "20\n",
            "name : John\n",
            "age : 20\n"
          ]
        }
      ]
    },
    {
      "cell_type": "markdown",
      "source": [
        "## Dict (Nested Dict)"
      ],
      "metadata": {
        "id": "hwl8kvzAFkgC"
      }
    },
    {
      "cell_type": "code",
      "source": [
        "# --- Nested Dictionaries ---\n",
        "students = {\n",
        "    \"s1\": {\"name\": \"John\", \"age\": 20},\n",
        "    \"s2\": {\"name\": \"Alice\", \"age\": 22}\n",
        "}\n",
        "\n",
        "print(students[\"s1\"][\"name\"])  # John\n"
      ],
      "metadata": {
        "colab": {
          "base_uri": "https://localhost:8080/"
        },
        "id": "DmztcanlFgcu",
        "outputId": "a6834655-d79c-4cc0-9fa0-8e8bc852e6b3"
      },
      "execution_count": null,
      "outputs": [
        {
          "output_type": "stream",
          "name": "stdout",
          "text": [
            "John\n"
          ]
        }
      ]
    }
  ]
}